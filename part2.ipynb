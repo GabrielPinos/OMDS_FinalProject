{
 "cells": [
  {
   "cell_type": "code",
   "execution_count": 6,
   "id": "4e550a4a",
   "metadata": {},
   "outputs": [
    {
     "name": "stdout",
     "output_type": "stream",
     "text": [
      "Requirement already satisfied: cvxopt in c:\\users\\hp\\appdata\\local\\packages\\pythonsoftwarefoundation.python.3.11_qbz5n2kfra8p0\\localcache\\local-packages\\python311\\site-packages (1.3.2)\n"
     ]
    },
    {
     "name": "stderr",
     "output_type": "stream",
     "text": [
      "\n",
      "[notice] A new release of pip is available: 24.3.1 -> 25.1.1\n",
      "[notice] To update, run: C:\\Users\\HP\\AppData\\Local\\Microsoft\\WindowsApps\\PythonSoftwareFoundation.Python.3.11_qbz5n2kfra8p0\\python.exe -m pip install --upgrade pip\n"
     ]
    }
   ],
   "source": [
    "!pip install -U cvxopt"
   ]
  },
  {
   "cell_type": "markdown",
   "id": "3a36c2f2",
   "metadata": {},
   "source": [
    "# **FINAL PROJECT _ Optimization Methods for Data Science** \n",
    "### A.A. 2024-2025\n",
    "\n",
    "**Pinos Gabriel** - 1965035  \n",
    "**Federico Lattanzio** - 1886519\n",
    "\n",
    "pinos.1965035@studenti.uniroma1.it  \n",
    "lattanzio.1886519@studenti.uniroma1.it"
   ]
  },
  {
   "cell_type": "code",
   "execution_count": 7,
   "id": "437ead9a",
   "metadata": {},
   "outputs": [],
   "source": [
    "# Import all the necessary modules\n",
    "import pandas as pd\n",
    "import numpy as np\n",
    "from sklearn.preprocessing import StandardScaler\n",
    "from sklearn.metrics import mean_squared_error, mean_absolute_percentage_error\n",
    "from scipy.optimize import minimize\n",
    "from sklearn.model_selection import train_test_split\n",
    "from warnings import filterwarnings\n",
    "import matplotlib.pyplot as plt\n",
    "filterwarnings('ignore')"
   ]
  },
  {
   "cell_type": "markdown",
   "id": "77701ce2",
   "metadata": {},
   "source": [
    "## **Dataset overview**\n",
    "--------\n",
    "**Read all the 3 datasets and take a look to them**"
   ]
  },
  {
   "cell_type": "markdown",
   "id": "42d0d3ae",
   "metadata": {},
   "source": [
    "The UTKFace-derived datasets contain features extracted via a ResNet backbone.\n",
    "Each dataset includes:\n",
    "\n",
    "- A number of columns labeled `feat_i`, which are the ResNet features.\n",
    "- A final column `gt`, which is the ground truth label:\n",
    "  - `AGE_PREDICTION.csv`: age values (float, from 0 to 100)\n",
    "  - `GENDER_CLASSIFICATION.csv`: binary (0 = Female, 1 = Male)\n",
    "  - `ETHNICITY_CLASSIFICATION.csv`: integer from 0 to 4 (5 ethnicity classes)\n",
    "\n",
    "We will first explore the structure and content of the datasets to understand their dimensions and distributions.\n"
   ]
  },
  {
   "cell_type": "code",
   "execution_count": 8,
   "id": "36cb286e",
   "metadata": {},
   "outputs": [],
   "source": [
    "age_df = pd.read_csv(\"dataset\\AGE_PREDICTION.csv\")\n",
    "ethnicity_df = pd.read_csv(\"dataset\\ETHNICITY_CLASSIFICATION.csv\")\n",
    "gender_df = pd.read_csv(\"dataset\\GENDER_CLASSIFICATION.csv\")"
   ]
  },
  {
   "cell_type": "markdown",
   "id": "249243b6",
   "metadata": {},
   "source": [
    "We begin by inspecting the first few rows and the label distribution of the `ETHNICITY_CLASSIFICATION.csv` dataset."
   ]
  },
  {
   "cell_type": "code",
   "execution_count": 9,
   "id": "f0b5833a",
   "metadata": {},
   "outputs": [
    {
     "name": "stdout",
     "output_type": "stream",
     "text": [
      "First 10 entries in GENDER_CLASSIFICATION dataset:\n"
     ]
    },
    {
     "data": {
      "text/html": [
       "<div>\n",
       "<style scoped>\n",
       "    .dataframe tbody tr th:only-of-type {\n",
       "        vertical-align: middle;\n",
       "    }\n",
       "\n",
       "    .dataframe tbody tr th {\n",
       "        vertical-align: top;\n",
       "    }\n",
       "\n",
       "    .dataframe thead th {\n",
       "        text-align: right;\n",
       "    }\n",
       "</style>\n",
       "<table border=\"1\" class=\"dataframe\">\n",
       "  <thead>\n",
       "    <tr style=\"text-align: right;\">\n",
       "      <th></th>\n",
       "      <th>feat_1</th>\n",
       "      <th>feat_2</th>\n",
       "      <th>feat_3</th>\n",
       "      <th>feat_4</th>\n",
       "      <th>feat_5</th>\n",
       "      <th>feat_6</th>\n",
       "      <th>feat_7</th>\n",
       "      <th>feat_8</th>\n",
       "      <th>feat_9</th>\n",
       "      <th>feat_10</th>\n",
       "      <th>...</th>\n",
       "      <th>feat_24</th>\n",
       "      <th>feat_25</th>\n",
       "      <th>feat_26</th>\n",
       "      <th>feat_27</th>\n",
       "      <th>feat_28</th>\n",
       "      <th>feat_29</th>\n",
       "      <th>feat_30</th>\n",
       "      <th>feat_31</th>\n",
       "      <th>feat_32</th>\n",
       "      <th>gt</th>\n",
       "    </tr>\n",
       "  </thead>\n",
       "  <tbody>\n",
       "    <tr>\n",
       "      <th>0</th>\n",
       "      <td>-0.900846</td>\n",
       "      <td>0.102587</td>\n",
       "      <td>-0.397814</td>\n",
       "      <td>0.112796</td>\n",
       "      <td>2.588096</td>\n",
       "      <td>-0.192754</td>\n",
       "      <td>-0.968311</td>\n",
       "      <td>-0.490886</td>\n",
       "      <td>-0.872099</td>\n",
       "      <td>-0.288411</td>\n",
       "      <td>...</td>\n",
       "      <td>2.541431</td>\n",
       "      <td>1.739102</td>\n",
       "      <td>0.166066</td>\n",
       "      <td>4.584869</td>\n",
       "      <td>-0.107031</td>\n",
       "      <td>-0.913990</td>\n",
       "      <td>-0.686416</td>\n",
       "      <td>-0.368085</td>\n",
       "      <td>-0.870545</td>\n",
       "      <td>0</td>\n",
       "    </tr>\n",
       "    <tr>\n",
       "      <th>1</th>\n",
       "      <td>-0.838868</td>\n",
       "      <td>0.039976</td>\n",
       "      <td>-0.387101</td>\n",
       "      <td>0.055413</td>\n",
       "      <td>2.066874</td>\n",
       "      <td>-0.226948</td>\n",
       "      <td>-0.947416</td>\n",
       "      <td>-0.472817</td>\n",
       "      <td>-0.855387</td>\n",
       "      <td>-0.207101</td>\n",
       "      <td>...</td>\n",
       "      <td>1.991721</td>\n",
       "      <td>1.259745</td>\n",
       "      <td>0.065058</td>\n",
       "      <td>3.019790</td>\n",
       "      <td>-0.110633</td>\n",
       "      <td>-0.890023</td>\n",
       "      <td>-0.611625</td>\n",
       "      <td>-0.298235</td>\n",
       "      <td>-0.855208</td>\n",
       "      <td>0</td>\n",
       "    </tr>\n",
       "    <tr>\n",
       "      <th>2</th>\n",
       "      <td>-0.814961</td>\n",
       "      <td>-0.010184</td>\n",
       "      <td>-0.397147</td>\n",
       "      <td>0.092713</td>\n",
       "      <td>1.897454</td>\n",
       "      <td>-0.269387</td>\n",
       "      <td>-0.945285</td>\n",
       "      <td>-0.449579</td>\n",
       "      <td>-0.849705</td>\n",
       "      <td>-0.151179</td>\n",
       "      <td>...</td>\n",
       "      <td>1.822978</td>\n",
       "      <td>1.105511</td>\n",
       "      <td>0.065353</td>\n",
       "      <td>2.500681</td>\n",
       "      <td>-0.052730</td>\n",
       "      <td>-0.885691</td>\n",
       "      <td>-0.583346</td>\n",
       "      <td>-0.218140</td>\n",
       "      <td>-0.856456</td>\n",
       "      <td>0</td>\n",
       "    </tr>\n",
       "    <tr>\n",
       "      <th>3</th>\n",
       "      <td>-0.110470</td>\n",
       "      <td>0.027849</td>\n",
       "      <td>-0.044310</td>\n",
       "      <td>-0.005343</td>\n",
       "      <td>0.177831</td>\n",
       "      <td>-0.232092</td>\n",
       "      <td>-0.562700</td>\n",
       "      <td>-0.400713</td>\n",
       "      <td>-0.552356</td>\n",
       "      <td>0.037349</td>\n",
       "      <td>...</td>\n",
       "      <td>-0.098367</td>\n",
       "      <td>-0.370318</td>\n",
       "      <td>-0.123008</td>\n",
       "      <td>-0.861314</td>\n",
       "      <td>0.106840</td>\n",
       "      <td>-0.483669</td>\n",
       "      <td>-0.224164</td>\n",
       "      <td>0.147321</td>\n",
       "      <td>-0.615051</td>\n",
       "      <td>0</td>\n",
       "    </tr>\n",
       "    <tr>\n",
       "      <th>4</th>\n",
       "      <td>-0.626313</td>\n",
       "      <td>-0.091985</td>\n",
       "      <td>-0.373756</td>\n",
       "      <td>-0.005083</td>\n",
       "      <td>1.172486</td>\n",
       "      <td>-0.314868</td>\n",
       "      <td>-0.885046</td>\n",
       "      <td>-0.412587</td>\n",
       "      <td>-0.818729</td>\n",
       "      <td>-0.012022</td>\n",
       "      <td>...</td>\n",
       "      <td>1.030348</td>\n",
       "      <td>0.421886</td>\n",
       "      <td>-0.068029</td>\n",
       "      <td>0.258984</td>\n",
       "      <td>-0.057158</td>\n",
       "      <td>-0.834079</td>\n",
       "      <td>-0.441066</td>\n",
       "      <td>-0.099874</td>\n",
       "      <td>-0.829539</td>\n",
       "      <td>0</td>\n",
       "    </tr>\n",
       "    <tr>\n",
       "      <th>5</th>\n",
       "      <td>-0.941448</td>\n",
       "      <td>0.165438</td>\n",
       "      <td>-0.392049</td>\n",
       "      <td>0.205172</td>\n",
       "      <td>3.134455</td>\n",
       "      <td>-0.161057</td>\n",
       "      <td>-0.982058</td>\n",
       "      <td>-0.499061</td>\n",
       "      <td>-0.884788</td>\n",
       "      <td>-0.341288</td>\n",
       "      <td>...</td>\n",
       "      <td>3.115495</td>\n",
       "      <td>2.232003</td>\n",
       "      <td>0.289214</td>\n",
       "      <td>6.179787</td>\n",
       "      <td>-0.052086</td>\n",
       "      <td>-0.932607</td>\n",
       "      <td>-0.753994</td>\n",
       "      <td>-0.415275</td>\n",
       "      <td>-0.885618</td>\n",
       "      <td>0</td>\n",
       "    </tr>\n",
       "    <tr>\n",
       "      <th>6</th>\n",
       "      <td>-0.624388</td>\n",
       "      <td>-0.080687</td>\n",
       "      <td>-0.366623</td>\n",
       "      <td>-0.049865</td>\n",
       "      <td>1.192401</td>\n",
       "      <td>-0.295711</td>\n",
       "      <td>-0.877278</td>\n",
       "      <td>-0.429471</td>\n",
       "      <td>-0.818519</td>\n",
       "      <td>-0.060946</td>\n",
       "      <td>...</td>\n",
       "      <td>1.045350</td>\n",
       "      <td>0.420301</td>\n",
       "      <td>-0.071344</td>\n",
       "      <td>0.328387</td>\n",
       "      <td>-0.099864</td>\n",
       "      <td>-0.831247</td>\n",
       "      <td>-0.436137</td>\n",
       "      <td>-0.157848</td>\n",
       "      <td>-0.824938</td>\n",
       "      <td>0</td>\n",
       "    </tr>\n",
       "    <tr>\n",
       "      <th>7</th>\n",
       "      <td>-0.360967</td>\n",
       "      <td>-0.055136</td>\n",
       "      <td>-0.222737</td>\n",
       "      <td>0.087353</td>\n",
       "      <td>0.521053</td>\n",
       "      <td>-0.297690</td>\n",
       "      <td>-0.790068</td>\n",
       "      <td>-0.485822</td>\n",
       "      <td>-0.745810</td>\n",
       "      <td>0.106832</td>\n",
       "      <td>...</td>\n",
       "      <td>0.249262</td>\n",
       "      <td>-0.195481</td>\n",
       "      <td>-0.132257</td>\n",
       "      <td>-0.800665</td>\n",
       "      <td>0.101134</td>\n",
       "      <td>-0.720496</td>\n",
       "      <td>-0.286264</td>\n",
       "      <td>0.140425</td>\n",
       "      <td>-0.767403</td>\n",
       "      <td>0</td>\n",
       "    </tr>\n",
       "    <tr>\n",
       "      <th>8</th>\n",
       "      <td>-0.313211</td>\n",
       "      <td>-0.053253</td>\n",
       "      <td>-0.220183</td>\n",
       "      <td>0.105120</td>\n",
       "      <td>0.460798</td>\n",
       "      <td>-0.311198</td>\n",
       "      <td>-0.772821</td>\n",
       "      <td>-0.473726</td>\n",
       "      <td>-0.724301</td>\n",
       "      <td>0.113229</td>\n",
       "      <td>...</td>\n",
       "      <td>0.173077</td>\n",
       "      <td>-0.230969</td>\n",
       "      <td>-0.142840</td>\n",
       "      <td>-0.830226</td>\n",
       "      <td>0.126386</td>\n",
       "      <td>-0.694164</td>\n",
       "      <td>-0.241437</td>\n",
       "      <td>0.184116</td>\n",
       "      <td>-0.760070</td>\n",
       "      <td>0</td>\n",
       "    </tr>\n",
       "    <tr>\n",
       "      <th>9</th>\n",
       "      <td>1.353326</td>\n",
       "      <td>-0.034194</td>\n",
       "      <td>0.277299</td>\n",
       "      <td>-0.471843</td>\n",
       "      <td>-0.809794</td>\n",
       "      <td>0.672951</td>\n",
       "      <td>2.717927</td>\n",
       "      <td>0.928540</td>\n",
       "      <td>1.897364</td>\n",
       "      <td>-0.233773</td>\n",
       "      <td>...</td>\n",
       "      <td>-0.782136</td>\n",
       "      <td>-0.502159</td>\n",
       "      <td>0.089402</td>\n",
       "      <td>-0.468237</td>\n",
       "      <td>-0.194680</td>\n",
       "      <td>2.013506</td>\n",
       "      <td>0.288960</td>\n",
       "      <td>-0.001121</td>\n",
       "      <td>1.840473</td>\n",
       "      <td>0</td>\n",
       "    </tr>\n",
       "  </tbody>\n",
       "</table>\n",
       "<p>10 rows × 33 columns</p>\n",
       "</div>"
      ],
      "text/plain": [
       "     feat_1    feat_2    feat_3    feat_4    feat_5    feat_6    feat_7  \\\n",
       "0 -0.900846  0.102587 -0.397814  0.112796  2.588096 -0.192754 -0.968311   \n",
       "1 -0.838868  0.039976 -0.387101  0.055413  2.066874 -0.226948 -0.947416   \n",
       "2 -0.814961 -0.010184 -0.397147  0.092713  1.897454 -0.269387 -0.945285   \n",
       "3 -0.110470  0.027849 -0.044310 -0.005343  0.177831 -0.232092 -0.562700   \n",
       "4 -0.626313 -0.091985 -0.373756 -0.005083  1.172486 -0.314868 -0.885046   \n",
       "5 -0.941448  0.165438 -0.392049  0.205172  3.134455 -0.161057 -0.982058   \n",
       "6 -0.624388 -0.080687 -0.366623 -0.049865  1.192401 -0.295711 -0.877278   \n",
       "7 -0.360967 -0.055136 -0.222737  0.087353  0.521053 -0.297690 -0.790068   \n",
       "8 -0.313211 -0.053253 -0.220183  0.105120  0.460798 -0.311198 -0.772821   \n",
       "9  1.353326 -0.034194  0.277299 -0.471843 -0.809794  0.672951  2.717927   \n",
       "\n",
       "     feat_8    feat_9   feat_10  ...   feat_24   feat_25   feat_26   feat_27  \\\n",
       "0 -0.490886 -0.872099 -0.288411  ...  2.541431  1.739102  0.166066  4.584869   \n",
       "1 -0.472817 -0.855387 -0.207101  ...  1.991721  1.259745  0.065058  3.019790   \n",
       "2 -0.449579 -0.849705 -0.151179  ...  1.822978  1.105511  0.065353  2.500681   \n",
       "3 -0.400713 -0.552356  0.037349  ... -0.098367 -0.370318 -0.123008 -0.861314   \n",
       "4 -0.412587 -0.818729 -0.012022  ...  1.030348  0.421886 -0.068029  0.258984   \n",
       "5 -0.499061 -0.884788 -0.341288  ...  3.115495  2.232003  0.289214  6.179787   \n",
       "6 -0.429471 -0.818519 -0.060946  ...  1.045350  0.420301 -0.071344  0.328387   \n",
       "7 -0.485822 -0.745810  0.106832  ...  0.249262 -0.195481 -0.132257 -0.800665   \n",
       "8 -0.473726 -0.724301  0.113229  ...  0.173077 -0.230969 -0.142840 -0.830226   \n",
       "9  0.928540  1.897364 -0.233773  ... -0.782136 -0.502159  0.089402 -0.468237   \n",
       "\n",
       "    feat_28   feat_29   feat_30   feat_31   feat_32  gt  \n",
       "0 -0.107031 -0.913990 -0.686416 -0.368085 -0.870545   0  \n",
       "1 -0.110633 -0.890023 -0.611625 -0.298235 -0.855208   0  \n",
       "2 -0.052730 -0.885691 -0.583346 -0.218140 -0.856456   0  \n",
       "3  0.106840 -0.483669 -0.224164  0.147321 -0.615051   0  \n",
       "4 -0.057158 -0.834079 -0.441066 -0.099874 -0.829539   0  \n",
       "5 -0.052086 -0.932607 -0.753994 -0.415275 -0.885618   0  \n",
       "6 -0.099864 -0.831247 -0.436137 -0.157848 -0.824938   0  \n",
       "7  0.101134 -0.720496 -0.286264  0.140425 -0.767403   0  \n",
       "8  0.126386 -0.694164 -0.241437  0.184116 -0.760070   0  \n",
       "9 -0.194680  2.013506  0.288960 -0.001121  1.840473   0  \n",
       "\n",
       "[10 rows x 33 columns]"
      ]
     },
     "metadata": {},
     "output_type": "display_data"
    },
    {
     "name": "stdout",
     "output_type": "stream",
     "text": [
      "\n",
      " - Total samples: 1000\n",
      " - Feature columns: 32 (excluding target 'gt')\n"
     ]
    },
    {
     "data": {
      "image/png": "[encoded data removed]",
      "text/plain": [
       "<Figure size 600x400 with 1 Axes>"
      ]
     },
     "metadata": {},
     "output_type": "display_data"
    }
   ],
   "source": [
    "# Preview\n",
    "print(\"First 10 entries in GENDER_CLASSIFICATION dataset:\")\n",
    "display(gender_df.head(10))\n",
    "\n",
    "# Dataset size\n",
    "print(f\"\\n - Total samples: {len(gender_df)}\")\n",
    "print(f\" - Feature columns: {gender_df.shape[1] - 1} (excluding target 'gt')\")\n",
    "\n",
    "# Gender distribution\n",
    "plt.figure(figsize=(6, 4))\n",
    "gender_df['gt'].value_counts().sort_index().plot(kind='bar', color=['#FF6F61', '#6B5B95'], edgecolor='grey')\n",
    "plt.title(\"Gender Distribution (0 = Female, 1 = Male)\", fontsize=14)\n",
    "plt.xlabel(\"Gender\", fontsize=12)\n",
    "plt.ylabel(\"Count\", fontsize=12)\n",
    "plt.xticks(ticks=[0, 1], labels=[\"Female\", \"Male\"], rotation=0)\n",
    "plt.grid(axis='y', alpha=0.3)\n",
    "plt.tight_layout()\n",
    "plt.show()"
   ]
  },
  {
   "cell_type": "markdown",
   "id": "69624605",
   "metadata": {},
   "source": [
    "# **Part 2: Support Vector Machines (SVM) for Gender Classification**\n",
    "----\n",
    "\n",
    "In this part of the project, we address the binary classification task of predicting gender using features extracted from the UTKFace dataset. The dataset `GENDER CLASSIFICATION.csv` contains image embeddings obtained via a pretrained ResNet, with labels indicating gender (0 or 1). The goal is to train a Support Vector Machine (SVM) classifier to accurately distinguish between the two classes."
   ]
  },
  {
   "cell_type": "markdown",
   "id": "1e85890a",
   "metadata": {},
   "source": [
    "### **Objective**\n",
    "\n",
    "We implement and analyze two optimization-based approaches to train a nonlinear SVM classifier:\n",
    "\n",
    "- **Question 2**: Solve the SVM **dual quadratic problem** using the **CVXOPT** library and select the best hyperparameters via **k-fold cross-validation**.\n",
    "- **Question 3**: Implement the **Most Violating Pair (MVP)** decomposition method with subproblem dimension fixed to 2, using analytical updates for each iteration.\n",
    "\n",
    "Both methods are evaluated in terms of classification performance and computational efficiency."
   ]
  },
  {
   "cell_type": "markdown",
   "id": "f0f6850f",
   "metadata": {},
   "source": [
    "### **Theoretical background**\n",
    "\n",
    "A **Support Vector Machine (SVM)** is a powerful supervised learning model used for classification tasks. The idea is to find the optimal separating hyperplane in a transformed feature space induced by a kernel function.\n",
    "\n",
    "The decision function for the nonlinear SVM is defined as:\n",
    "\n",
    "$$\n",
    "y(x) = \\text{sign}\\left( \\sum_{i=1}^{L} \\lambda_i y_i k(x_i, x) + b \\right)\n",
    "$$\n",
    "\n",
    "where:\n",
    "- $x_i$ are the training points,\n",
    "- $y_i \\in \\{-1, 1\\}$ are the labels (the original labels will be mapped accordingly),\n",
    "- $\\lambda_i$ are the Lagrange multipliers,\n",
    "- $k(\\cdot, \\cdot)$ is the kernel function,\n",
    "- $b$ is the bias term.\n",
    "\n",
    "The **dual problem** formulation is:\n",
    "\n",
    "$$\n",
    "\\max_{\\lambda} \\sum_{i=1}^{N} \\lambda_i - \\frac{1}{2} \\sum_{i,j=1}^{N} \\lambda_i \\lambda_j y_i y_j k(x_i, x_j)\n",
    "$$\n",
    "subject to:\n",
    "$$\n",
    "0 \\leq \\lambda_i \\leq C, \\quad \\sum_{i=1}^{N} \\lambda_i y_i = 0\n",
    "$$\n",
    "\n",
    "---\n",
    "To enable nonlinear decision boundaries, we use **kernel functions** to implicitly map data into higher-dimensional spaces:\n",
    "\n",
    "- **Gaussian (RBF) Kernel**:\n",
    "  $$\n",
    "  K(x, x') = e^{-\\gamma \\|x - x'\\|^2}\n",
    "  $$\n",
    "- **Polynomial Kernel**:\n",
    "  $$\n",
    "  K(x, x') = (x^\\top x' + 1)^p\n",
    "  $$\n",
    "\n",
    "Each kernel introduces one or more hyperparameters (e.g., $\\gamma$, $p$) that control the complexity and smoothness of the decision boundary.\n",
    "\n",
    "---\n",
    "\n",
    "The following hyperparameters must be tuned using **k-fold cross-validation**:\n",
    "\n",
    "- $C$: regularization parameter that controls the trade-off between margin size and classification error\n",
    "- $\\gamma$: Gaussian kernel width (for RBF)\n",
    "- $p$: degree of the polynomial (for Polynomial kernel)"
   ]
  },
  {
   "cell_type": "markdown",
   "id": "36ba22a1",
   "metadata": {},
   "source": [
    "-----\n"
   ]
  },
  {
   "cell_type": "markdown",
   "id": "af180c35",
   "metadata": {},
   "source": [
    "### **Setup and Data Loading**"
   ]
  },
  {
   "cell_type": "code",
   "execution_count": 10,
   "id": "0d06c333",
   "metadata": {},
   "outputs": [
    {
     "name": "stdout",
     "output_type": "stream",
     "text": [
      "Dataset shape: (1000, 32)\n",
      "Number of positive samples: 500\n",
      "Number of negative samples: 500\n"
     ]
    }
   ],
   "source": [
    "import numpy as np\n",
    "import pandas as pd\n",
    "from sklearn.model_selection import train_test_split\n",
    "from sklearn.metrics import accuracy_score, confusion_matrix\n",
    "import matplotlib.pyplot as plt\n",
    "import seaborn as sns\n",
    "\n",
    "# Import our custom SVM utilities\n",
    "from src.svm_utils import (\n",
    "    cross_validate_svm, train_final_svm, predict, \n",
    "    build_dual_problem, solve_svm_dual, compute_bias\n",
    ")\n",
    "\n",
    "# Load and prepare the data\n",
    "# Note: Replace 'gender_df' with your actual dataset loading\n",
    "# gender_df = pd.read_csv('your_dataset.csv')  # Example\n",
    "\n",
    "# Prepare features and labels\n",
    "X = gender_df.drop(columns=['gt']).values\n",
    "y = gender_df['gt'].values\n",
    "\n",
    "# Convert labels to {-1, +1} format for SVM\n",
    "y_svm = np.where(y == 0, -1, 1)\n",
    "\n",
    "print(f\"Dataset shape: {X.shape}\")\n",
    "print(f\"Number of positive samples: {np.sum(y_svm == 1)}\")\n",
    "print(f\"Number of negative samples: {np.sum(y_svm == -1)}\")"
   ]
  },
  {
   "cell_type": "markdown",
   "id": "bcb71261",
   "metadata": {},
   "source": [
    "### **Hyperparameter Tuning with Cross-Validation**"
   ]
  },
  {
   "cell_type": "code",
   "execution_count": 11,
   "id": "7f4ddd32",
   "metadata": {},
   "outputs": [
    {
     "name": "stdout",
     "output_type": "stream",
     "text": [
      "Starting cross-validation for hyperparameter tuning...\n",
      "==================================================\n",
      "Error with C=0.1, gamma=0.001: No support vectors found.\n",
      "C=0.1, gamma=0.001, CV accuracy=0.7330\n",
      "C=0.1, gamma=0.01, CV accuracy=0.9150\n",
      "C=0.1, gamma=0.1, CV accuracy=0.9150\n",
      "C=1, gamma=0.001, CV accuracy=0.9160\n",
      "C=1, gamma=0.01, CV accuracy=0.9140\n",
      "C=1, gamma=0.1, CV accuracy=0.9170\n",
      "C=10, gamma=0.001, CV accuracy=0.9130\n",
      "C=10, gamma=0.01, CV accuracy=0.9180\n",
      "C=10, gamma=0.1, CV accuracy=0.9140\n",
      "==================================================\n",
      "Best hyperparameters found:\n",
      "  C = 10\n",
      "  gamma = 0.01\n",
      "  Cross-validation accuracy = 0.9180\n"
     ]
    }
   ],
   "source": [
    "# Define hyperparameter search space\n",
    "C_values = [0.1, 1, 10]           # Regularization parameter\n",
    "gamma_values = [0.001, 0.01, 0.1] # RBF kernel parameter\n",
    "\n",
    "print(\"Starting cross-validation for hyperparameter tuning...\")\n",
    "print(\"=\" * 50)\n",
    "\n",
    "# Perform 5-fold cross-validation\n",
    "cv_results = cross_validate_svm(X, y_svm, C_values, gamma_values, k=5)\n",
    "\n",
    "# Extract best hyperparameters\n",
    "best_C, best_gamma, best_score = cv_results[0]\n",
    "print(\"=\" * 50)\n",
    "print(f\"Best hyperparameters found:\")\n",
    "print(f\"  C = {best_C}\")\n",
    "print(f\"  gamma = {best_gamma}\")\n",
    "print(f\"  Cross-validation accuracy = {best_score:.4f}\")"
   ]
  },
  {
   "cell_type": "markdown",
   "id": "1f24f599",
   "metadata": {},
   "source": [
    "### **Data Splitting**"
   ]
  },
  {
   "cell_type": "code",
   "execution_count": 12,
   "id": "2bc22b0f",
   "metadata": {},
   "outputs": [
    {
     "name": "stdout",
     "output_type": "stream",
     "text": [
      "Training set size: 800\n",
      "Test set size: 200\n"
     ]
    }
   ],
   "source": [
    "# Split data: 80% for training+validation, 20% for final testing\n",
    "X_trainval, X_test, y_trainval, y_test = train_test_split(\n",
    "    X, y_svm, test_size=0.2, random_state=42, stratify=y_svm\n",
    ")\n",
    "\n",
    "print(f\"Training set size: {X_trainval.shape[0]}\")\n",
    "print(f\"Test set size: {X_test.shape[0]}\")"
   ]
  },
  {
   "cell_type": "markdown",
   "id": "0c242774",
   "metadata": {},
   "source": [
    "### **Final Model Training**"
   ]
  },
  {
   "cell_type": "code",
   "execution_count": 13,
   "id": "f0588d82",
   "metadata": {},
   "outputs": [
    {
     "name": "stdout",
     "output_type": "stream",
     "text": [
      "Training final SVM model...\n",
      "Training completed successfully!\n",
      "Number of support vectors: 392\n",
      "Bias term: -0.790482\n"
     ]
    }
   ],
   "source": [
    "# Train final SVM model with best hyperparameters\n",
    "print(\"Training final SVM model...\")\n",
    "\n",
    "kernel_params = {'type': 'rbf', 'gamma': best_gamma}\n",
    "lambdas, bias, solution = train_final_svm(X_trainval, y_trainval, kernel_params, best_C)\n",
    "\n",
    "print(\"Training completed successfully!\")\n",
    "print(f\"Number of support vectors: {np.sum(lambdas > 1e-5)}\")\n",
    "print(f\"Bias term: {bias:.6f}\")"
   ]
  },
  {
   "cell_type": "markdown",
   "id": "8a7eb0f4",
   "metadata": {},
   "source": [
    "### **Model Evaluation**"
   ]
  },
  {
   "cell_type": "code",
   "execution_count": 14,
   "id": "4db430bf",
   "metadata": {},
   "outputs": [
    {
     "name": "stdout",
     "output_type": "stream",
     "text": [
      "========================================\n",
      "FINAL RESULTS\n",
      "========================================\n",
      "Test Set Accuracy: 0.9200\n",
      "Test Set Accuracy (%): 92.00%\n",
      "\n",
      "Confusion Matrix:\n",
      "[[93  7]\n",
      " [ 9 91]]\n"
     ]
    }
   ],
   "source": [
    "# Make predictions on test set\n",
    "y_pred_test = predict(\n",
    "    X_trainval, y_trainval, lambdas, bias, kernel_params, X_test\n",
    ")\n",
    "\n",
    "# Calculate performance metrics\n",
    "test_accuracy = accuracy_score(y_test, y_pred_test)\n",
    "conf_matrix = confusion_matrix(y_test, y_pred_test)\n",
    "\n",
    "print(\"=\" * 40)\n",
    "print(\"FINAL RESULTS\")\n",
    "print(\"=\" * 40)\n",
    "print(f\"Test Set Accuracy: {test_accuracy:.4f}\")\n",
    "print(f\"Test Set Accuracy (%): {test_accuracy * 100:.2f}%\")\n",
    "print()\n",
    "print(\"Confusion Matrix:\")\n",
    "print(conf_matrix)\n"
   ]
  },
  {
   "cell_type": "markdown",
   "id": "bf938e07",
   "metadata": {},
   "source": [
    "### **Optimization Details**"
   ]
  },
  {
   "cell_type": "code",
   "execution_count": 15,
   "id": "b2fe0d11",
   "metadata": {},
   "outputs": [
    {
     "name": "stdout",
     "output_type": "stream",
     "text": [
      "========================================\n",
      "OPTIMIZATION DETAILS\n",
      "========================================\n",
      "Number of iterations: 21\n",
      "Initial objective value (estimated): 0.0000\n",
      "Final objective value: -1504.266529\n",
      "Optimization status: optimal\n"
     ]
    }
   ],
   "source": [
    "# Display optimization information\n",
    "print(\"=\" * 40)\n",
    "print(\"OPTIMIZATION DETAILS\")\n",
    "print(\"=\" * 40)\n",
    "print(f\"Number of iterations: {solution['iterations']}\")\n",
    "print(f\"Initial objective value (estimated): 0.0000\")\n",
    "print(f\"Final objective value: {solution['primal objective']:.6f}\")\n",
    "print(f\"Optimization status: {solution['status']}\")"
   ]
  },
  {
   "cell_type": "markdown",
   "id": "0cc8af3d",
   "metadata": {},
   "source": [
    "### **Visualization**"
   ]
  },
  {
   "cell_type": "code",
   "execution_count": 16,
   "id": "88fa05a8",
   "metadata": {},
   "outputs": [
    {
     "data": {
      "image/png": "[encoded data removed]",
      "text/plain": [
       "<Figure size 800x600 with 2 Axes>"
      ]
     },
     "metadata": {},
     "output_type": "display_data"
    },
    {
     "data": {
      "image/png": "[encoded data removed]",
      "text/plain": [
       "<Figure size 1200x800 with 2 Axes>"
      ]
     },
     "metadata": {},
     "output_type": "display_data"
    }
   ],
   "source": [
    "# Plot confusion matrix\n",
    "plt.figure(figsize=(8, 6))\n",
    "sns.heatmap(conf_matrix, annot=True, fmt='d', cmap='Blues', \n",
    "            xticklabels=['Predicted -1', 'Predicted +1'],\n",
    "            yticklabels=['Actual -1', 'Actual +1'])\n",
    "plt.title('Confusion Matrix - SVM Test Results')\n",
    "plt.ylabel('True Label')\n",
    "plt.xlabel('Predicted Label')\n",
    "plt.show()\n",
    "\n",
    "# Plot cross-validation results\n",
    "plt.figure(figsize=(12, 8))\n",
    "cv_df = pd.DataFrame(cv_results, columns=['C', 'gamma', 'accuracy'])\n",
    "\n",
    "# Create heatmap of CV results\n",
    "pivot_table = cv_df.pivot(index='gamma', columns='C', values='accuracy')\n",
    "sns.heatmap(pivot_table, annot=True, fmt='.4f', cmap='viridis')\n",
    "plt.title('Cross-Validation Accuracy Heatmap')\n",
    "plt.xlabel('C (Regularization Parameter)')\n",
    "plt.ylabel('Gamma (RBF Kernel Parameter)')\n",
    "plt.show()"
   ]
  },
  {
   "cell_type": "markdown",
   "id": "2237a492",
   "metadata": {},
   "source": [
    "### **Summary Statistics**"
   ]
  },
  {
   "cell_type": "code",
   "execution_count": 17,
   "id": "2b18215d",
   "metadata": {},
   "outputs": [
    {
     "name": "stdout",
     "output_type": "stream",
     "text": [
      "==================================================\n",
      "COMPREHENSIVE SUMMARY\n",
      "==================================================\n",
      "Dataset: 1000 samples, 32 features\n",
      "Best hyperparameters: C=10, gamma=0.01\n",
      "Cross-validation accuracy: 0.9180\n",
      "Test accuracy: 0.9200\n",
      "Number of support vectors: 392\n",
      "Support vector ratio: 49.00%\n",
      "Optimization converged in 21 iterations\n",
      "\n",
      "Detailed Classification Report:\n",
      "              precision    recall  f1-score   support\n",
      "\n",
      "    Class -1       0.91      0.93      0.92       100\n",
      "    Class +1       0.93      0.91      0.92       100\n",
      "\n",
      "    accuracy                           0.92       200\n",
      "   macro avg       0.92      0.92      0.92       200\n",
      "weighted avg       0.92      0.92      0.92       200\n",
      "\n"
     ]
    }
   ],
   "source": [
    "# Print comprehensive summary\n",
    "print(\"=\" * 50)\n",
    "print(\"COMPREHENSIVE SUMMARY\")\n",
    "print(\"=\" * 50)\n",
    "print(f\"Dataset: {X.shape[0]} samples, {X.shape[1]} features\")\n",
    "print(f\"Best hyperparameters: C={best_C}, gamma={best_gamma}\")\n",
    "print(f\"Cross-validation accuracy: {best_score:.4f}\")\n",
    "print(f\"Test accuracy: {test_accuracy:.4f}\")\n",
    "print(f\"Number of support vectors: {np.sum(lambdas > 1e-5)}\")\n",
    "print(f\"Support vector ratio: {np.sum(lambdas > 1e-5) / len(lambdas):.2%}\")\n",
    "print(f\"Optimization converged in {solution['iterations']} iterations\")\n",
    "\n",
    "# Classification report\n",
    "from sklearn.metrics import classification_report\n",
    "print(\"\\nDetailed Classification Report:\")\n",
    "print(classification_report(y_test, y_pred_test, target_names=['Class -1', 'Class +1']))"
   ]
  }
 ],
 "metadata": {
  "kernelspec": {
   "display_name": "Python 3",
   "language": "python",
   "name": "python3"
  },
  "language_info": {
   "codemirror_mode": {
    "name": "ipython",
    "version": 3
   },
   "file_extension": ".py",
   "mimetype": "text/x-python",
   "name": "python",
   "nbconvert_exporter": "python",
   "pygments_lexer": "ipython3",
   "version": "3.11.9"
  }
 },
 "nbformat": 4,
 "nbformat_minor": 5
}
