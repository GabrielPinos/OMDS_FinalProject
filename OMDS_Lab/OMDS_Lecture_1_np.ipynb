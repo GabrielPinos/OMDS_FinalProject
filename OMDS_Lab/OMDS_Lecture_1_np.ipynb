{
 "cells": [
  {
   "cell_type": "markdown",
   "metadata": {},
   "source": [
    "# Optimization Methods for Data Science\n",
    "### A.A. 2024-2025\n",
    "\n",
    "Alessandro Pannone\n",
    "Ph.D. Student @ Sapienza University of Rome\n",
    "\n",
    "pannone@diag.uniroma1.it"
   ]
  },
  {
   "cell_type": "markdown",
   "metadata": {
    "id": "BjPZWqJjjIH_"
   },
   "source": [
    "# Lecture 1\n",
    "## An Introduction to Optimization in Python\n"
   ]
  },
  {
   "cell_type": "markdown",
   "metadata": {
    "id": "kdcfmOr0lpci"
   },
   "source": [
    "## NumPy\n",
    "Documentation: https://numpy.org/doc/stable/index.html\n",
    "\n",
    "NumPy is a Python library for scientific computing; it provides a multidimensional array object and an assortment of routines for fast operations on arrays. It is very efficient since it's implemented in C."
   ]
  },
  {
   "cell_type": "code",
   "execution_count": null,
   "metadata": {
    "executionInfo": {
     "elapsed": 3,
     "status": "ok",
     "timestamp": 1679491716802,
     "user": {
      "displayName": "Cecilia Salvatore",
      "userId": "06475737550872053301"
     },
     "user_tz": -60
    },
    "id": "Y4KJcWEpmYqR"
   },
   "outputs": [],
   "source": [
    "import numpy as np"
   ]
  },
  {
   "cell_type": "markdown",
   "metadata": {},
   "source": [
    "#### First of all...why NumPy?\n",
    "\n",
    "Because 'pure' python is slow!!\n",
    "\n",
    "For example, suppose you need to perform matrix multiplication.\n",
    "Let's compare speed of numpy vs python implementations "
   ]
  },
  {
   "cell_type": "code",
   "execution_count": null,
   "metadata": {},
   "outputs": [],
   "source": [
    "from typing import List\n",
    "\n",
    "\n",
    "def slow_mat_mul(m1: List[List[float]], m2: List[List[float]]) -> List[List[float]]:\n",
    "    \"\"\"\n",
    "    Matrix multiplication written in pure python\n",
    "    \"\"\"\n",
    "\n",
    "    # GET MATRIX DIMENSION\n",
    "    m1_rows = len(m1)\n",
    "    m1_cols = len(m1[0])\n",
    "    m2_rows = len(m2)\n",
    "    m2_cols = len(m2[0])\n",
    "\n",
    "    # CHECK IF DIMENSIONS ARE COMPATIBLE\n",
    "    if m1_cols != m2_rows:\n",
    "        raise ValueError(\"Invalid shapes provided!\")\n",
    "    \n",
    "    # INITIALIZE RESULT MATRIX\n",
    "    res = [[0 for j in range(m2_cols)] for i in range(m1_rows)]\n",
    "\n",
    "    # DO MATRIX MULTIPLICATION\n",
    "    for i in range(m1_rows):\n",
    "        for j in range(m2_cols):\n",
    "            # AVOID MEMORY ACCES FOR EACH K\n",
    "            elem = 0\n",
    "            for k in range(m1_cols):\n",
    "                elem += m1[i][k] * m2[k][j]\n",
    "            res[i][j] = elem\n",
    "\n",
    "    return res\n"
   ]
  },
  {
   "cell_type": "code",
   "execution_count": null,
   "metadata": {},
   "outputs": [],
   "source": [
    "import time\n",
    "\n",
    "# INITIALIZE MATRICES (THESE ARE NUMPY ARRAYS)\n",
    "m1_np = np.random.randint(low=0, high=100, size=[64, 128])\n",
    "m2_np = np.random.randint(low=0, high=100, size=[128, 64])\n",
    "\n",
    "# CONVERT ARRAYS INTO NESTED LIST\n",
    "m1_py = m1_np.tolist()\n",
    "m2_py = m2_np.tolist()\n",
    "\n",
    "# DO MATRIX MULTIPLICATION IN PURE PYTHON\n",
    "start_py = time.time()\n",
    "res_py = slow_mat_mul(m1=m1_py, m2=m2_py)\n",
    "end_py = time.time()\n",
    "\n",
    "# DO MATRIX MULTIPLICATION IN NUMPY\n",
    "start_np = time.time()\n",
    "res_np = np.dot(a=m1_np, b=m2_np)\n",
    "end_np = time.time()\n",
    "\n",
    "print(f\"duration pure python: {end_py - start_py} --- duration numpy: {end_np - start_np}\")\n"
   ]
  },
  {
   "cell_type": "markdown",
   "metadata": {
    "id": "XOB0_UNpqaeJ"
   },
   "source": [
    "#### How to create NumPy Arrays"
   ]
  },
  {
   "cell_type": "code",
   "execution_count": null,
   "metadata": {},
   "outputs": [],
   "source": [
    "# CREATING NUMPY ARRAY FROM PYTHON LIST\n",
    "list_ = [4, 6, 17, 8, 12.5]\n",
    "vector = np.array(list_)\n",
    "print(\"Vector from list:\")\n",
    "print(vector)\n",
    "\n",
    "nested_list = [\n",
    "    [1, 2, 3, 0],\n",
    "    [4, 5, 6, 0], \n",
    "    [7, 8, 9, 0]\n",
    "]\n",
    "matrix = np.array(nested_list)\n",
    "print(\"Matrix from nested list:\")\n",
    "print(matrix)\n",
    "\n",
    "# CREATING AN ARRAY OF ELEMENTS FROM START (INCLUDED) TO STOP (NOT INCLUDED) WITH A GIVEN STEP\n",
    "a = np.arange(start=0, stop=10, step=1)\n",
    "print(\"\\nFrom range:\", a)\n",
    "\n",
    "# CREATING AN ARRAY OF NUM EVENLY SPACED SAMPLES BETWEEN START AND STOP\n",
    "b = np.linspace(start=0, stop=5, num=10, endpoint=False)\n",
    "print(\"\\nEvenly spaced samples:\", b)\n",
    "\n",
    "# DISPLAYING DATA TYPES\n",
    "print(\"Data type of array a: \", a.dtype)\n",
    "print(\"Data type of array b: \", b.dtype)\n",
    "\n",
    "# CREATING A RANDOM ARRAY OF SIZE [3, 5] --> MATRIX WITH 3 ROWS AND 5 COLUMNS. EACH ELEMENT IS\n",
    "# DRAWN FROM A UNIFORM DISTRIBUTION BETWEEN O AND 1\n",
    "c = np.random.rand(3, 5)\n",
    "print(\"\\nRandom elements between 0 and 1 (uniform distribution)\")\n",
    "print(c)\n",
    "\n",
    "# ALL ZEROS\n",
    "zeros_array = np.zeros((4, 2))\n",
    "print(\"\\nZeros array:\")\n",
    "print(zeros_array)\n",
    "\n",
    "# ALL ONES\n",
    "ones_array = np.ones((2, 5))\n",
    "print(\"\\nOnes array:\")\n",
    "print(ones_array)\n"
   ]
  },
  {
   "cell_type": "markdown",
   "metadata": {
    "id": "SC6eI8SEqgdD"
   },
   "source": [
    "Be careful: when using the numpy random module, it is always better to set the seed at the beginning of the code in order to be able to reproduce the same behaviour."
   ]
  },
  {
   "cell_type": "code",
   "execution_count": null,
   "metadata": {
    "colab": {
     "base_uri": "https://localhost:8080/"
    },
    "executionInfo": {
     "elapsed": 517,
     "status": "ok",
     "timestamp": 1679491731725,
     "user": {
      "displayName": "Cecilia Salvatore",
      "userId": "06475737550872053301"
     },
     "user_tz": -60
    },
    "id": "hQiK-FuzqXdN",
    "outputId": "90b075a1-1de2-4f64-e639-e2fb566a01b5"
   },
   "outputs": [],
   "source": [
    "np.random.seed(100)\n",
    "\n",
    "print(np.random.rand(10))\n",
    "print(np.random.rand(10))"
   ]
  },
  {
   "cell_type": "markdown",
   "metadata": {
    "id": "t_2lB4zw52O0"
   },
   "source": [
    "### Multi-dimensional arrays"
   ]
  },
  {
   "cell_type": "code",
   "execution_count": null,
   "metadata": {},
   "outputs": [],
   "source": [
    "# GENERATING A RANDOM 2D ARRAY WITH SHAPE (5, 2)\n",
    "a = np.random.random(size=(5, 2))\n",
    "print(\"Random 2D array:\")\n",
    "print(a, \"\\n\")\n",
    "\n",
    "print(\"Shape of the array: \", a.shape) \n",
    "print(\"Number of dimensions: \", a.ndim)\n",
    "print(\"Value at position (0, 0): \", a[0, 0])\n",
    "print(\"Bottom right value: \", a[-1, -1])\n",
    "print(\"Values in the first row: \", a[0, :])\n",
    "print(\"Values in the second column: \", a[:, 1])\n",
    "\n",
    "# GENERATING A RANDOM 3D ARRAY WITH SHAPE (5, 2, 2)\n",
    "a = np.random.random(size=(3, 2, 2))\n",
    "print(\"\\nRandom 3D array:\")\n",
    "print(a, \"\\n\")\n",
    "print(\"Shape of the array:\", a.shape)\n",
    "print(\"Number of dimensions:\", a.ndim) \n",
    "print(\"Values in the first slice (2D array at index 0):\")\n",
    "print(a[0, :, :])"
   ]
  },
  {
   "cell_type": "markdown",
   "metadata": {
    "id": "NMgQfDLP55vo"
   },
   "source": [
    "### Mathematical Operations in NumPy"
   ]
  },
  {
   "cell_type": "code",
   "execution_count": null,
   "metadata": {},
   "outputs": [],
   "source": [
    "# GENERATING A RANDOM 2D ARRAY WITH SHAPE (5, 2) --> EACH ELEMENT IS BETWEEN O AND 9\n",
    "a = np.random.randint(0, 10, size=(5, 2))\n",
    "print(\"Random 2D array: \")\n",
    "print(a, \"\\n\")\n",
    "\n",
    "print(\"Shape of the array:\", a.shape)\n",
    "print(\"Number of dimensions:\", a.ndim)\n",
    "\n",
    "print(\"Maximum value in the entire array: \", np.max(a))\n",
    "print(\"Minimum value in the entire array: \", np.min(a))\n",
    "print(\"Sum of all elements in the entire array: \", np.sum(a))\n",
    "print(\"L2 norm in the entire array: \", np.linalg.norm(a, axis=0))\n",
    "\n",
    "\n",
    "# MAX, MIN, SUM, NORM ALONG AXIS 0 --> BY COLUMN\n",
    "print(\"\\nMax along axis 0: \", np.max(a, axis=0))\n",
    "print(\"Min along axis 0: \", np.min(a, axis=0))\n",
    "print(\"Sum along axis 0: \", np.sum(a, axis=0))\n",
    "print(\"L2 norm along axis 0: \", np.linalg.norm(a, axis=0))\n",
    "\n",
    "# MAX, MIN, SUM, NORM ALONG AXIS 0 --> BY ROW\n",
    "print(\"\\nMax along axis 1: \", np.max(a, axis=1))\n",
    "print(\"Min along axis 1: \", np.min(a, axis=1))\n",
    "print(\"Sum along axis 1: \", np.sum(a, axis=1))\n",
    "print(\"L2 norm along axis 1: \", np.linalg.norm(a, axis=1))"
   ]
  },
  {
   "cell_type": "code",
   "execution_count": null,
   "metadata": {},
   "outputs": [],
   "source": [
    "# GENERATING A RANDOM 2D ARRAY WITH SHAPE (5, 2) --> EACH ELEMENT IS BETWEEN O AND 9\n",
    "a = np.random.randint(0, 10, size=(5, 2))\n",
    "print(\"Random 2D array:\")\n",
    "print(a)\n",
    "\n",
    "# RESHAPE ARRAY\n",
    "b = a.reshape(2, 5)\n",
    "print(\"\\nReshaped array (2x5):\")\n",
    "print(b, \"\\n\")\n",
    "\n",
    "# FLATTEN ARRAY\n",
    "c = np.ravel(a)\n",
    "print(\"Shape before ravel: \", a.shape)\n",
    "print(\"Flatten array (1D):\")\n",
    "print(c)\n",
    "print(\"Shape after ravel: \", c.shape)\n",
    "\n",
    "# TRANSPOSE THE ARRAY\n",
    "d = np.transpose(a) # SAME OF DOING a.T\n",
    "print(\"\\nTransposed array:\")\n",
    "print(d)"
   ]
  },
  {
   "cell_type": "code",
   "execution_count": null,
   "metadata": {},
   "outputs": [],
   "source": [
    "# COMPONENENT-WISE OPERATIONS\n",
    "a = np.random.randint(low=0, high=10, size=[2, 3])\n",
    "b = np.random.randint(low=0, high=10, size=[2, 3])\n",
    "\n",
    "result = a + b # YOU CAN ALSO SUBRACT (-), MULTIPLY (*), DIVIDE (/), POWER (**)...\n",
    "print(\"Array a:\")\n",
    "print(a)\n",
    "print(\"Array b:\")\n",
    "print(b)\n",
    "print(\"Result:\")\n",
    "print(result)"
   ]
  },
  {
   "cell_type": "code",
   "execution_count": null,
   "metadata": {},
   "outputs": [],
   "source": [
    "# PAY ATTENTION TO INPUT SHAPES!\n",
    "a = np.random.rand(3, 4)\n",
    "b = np.random.rand(3, 10)\n",
    "res = a + b"
   ]
  },
  {
   "cell_type": "markdown",
   "metadata": {
    "id": "rJ5HKHr_BWSo"
   },
   "source": [
    "### Broadcasting\n",
    "\n",
    "The term broadcasting describes how NumPy treats arrays with different shapes during arithmetic operations. Subject to certain constraints, the smaller array is “broadcast” across the larger array so that they have compatible shapes. Broadcasting provides a means of vectorizing array operations so that looping occurs in C instead of Python. It does this without making needless copies of data and usually leads to efficient algorithm implementations.\n",
    "\n",
    "See https://numpy.org/doc/stable/user/basics.broadcasting.html for more details (link to documentation)\n",
    "\n",
    "See https://towardsdatascience.com/broadcasting-in-numpy-58856f926d73 (good explanation on how broadcasting works)"
   ]
  },
  {
   "cell_type": "markdown",
   "metadata": {},
   "source": [
    "In this example, we can think of the scalar b being stretched during the arithmetic operation into an array with the same shape as a. The new elements in b, as shown in Figure 1, are simply copies of the original scalar. The stretching analogy is only conceptual. NumPy is smart enough to use the original scalar value without actually making copies so that broadcasting operations are as memory and computationally efficient as possible.\n",
    "\n",
    "![Screenshot 2023-03-22 122825.png](data:image/png;base64,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)"
   ]
  },
  {
   "cell_type": "code",
   "execution_count": null,
   "metadata": {},
   "outputs": [],
   "source": [
    "# BROADCASTING: ADD SCALAR TO ARRAY\n",
    "scalar_value = 5\n",
    "a = np.array([1, 2, 3])\n",
    "result = a + scalar_value\n",
    "print(\"Adding scalar to array:\")\n",
    "print(\"Array a:\", a)\n",
    "print(\"Scalar value:\", scalar_value)\n",
    "print(\"Result:\", result)\n",
    "print()\n",
    "\n",
    "# BROADCASTING: MULTIPLY ARRAY BY SCALAR\n",
    "scalar_value = 2\n",
    "a = np.random.randint(low=0, high=10, size=[3, 4])\n",
    "result = a * scalar_value\n",
    "print(\"Multiplying array by scalar:\")\n",
    "print(\"Array a:\")\n",
    "print(a)\n",
    "print(\"Scalar value:\", scalar_value)\n",
    "print(\"Result:\")\n",
    "print(result)\n",
    "print()\n",
    "\n",
    "# BROADCASTING: ADD ARRAYS OF DIFFERENT SIZES\n",
    "print(\"Add vector to each row\")\n",
    "a = np.random.randint(low=0, high=10, size=[3, 4])\n",
    "print(\"Array a:\")\n",
    "print(a)\n",
    "\n",
    "b = np.array([1, 2, 3, 4]).reshape([1, 4]) # RESHAPE IS NOT NECESSARY IN THIS CASE\n",
    "print(\"Array b: \", b)\n",
    "result = a + b\n",
    "print(\"Result:\")\n",
    "print(result)\n",
    "print()\n",
    "\n",
    "print(\"Add vector to each column\")\n",
    "print(\"Array a:\")\n",
    "print(a)\n",
    "\n",
    "b = np.array([1, 2, 3]).reshape([3, 1])\n",
    "print(\"Array b:\")\n",
    "print(b)\n",
    "result = a + b\n",
    "print(\"Result:\")\n",
    "print(result)\n"
   ]
  },
  {
   "cell_type": "markdown",
   "metadata": {},
   "source": [
    "Two of the most frequent numerical operations in Machine Learning are:\n",
    "\n",
    "1) __scalar product__ between two vectors $v,w \\in \\mathbb{R}^n$, defined as\n",
    "$$ v^T w = \\sum_{i=1}^n v_i w_i$$\n",
    "\n",
    "2) __component-wise product__ between two vectors $v,w \\in \\mathbb{R}^n$, defined as a vector $z \\in \\mathbb{R}^n$: $$\\ \\ z_i = v_i w_i \\ \\forall i=1,\\dots,n$$\n"
   ]
  },
  {
   "cell_type": "code",
   "execution_count": null,
   "metadata": {},
   "outputs": [],
   "source": [
    "v1 = np.array([2, 3, 4])\n",
    "v2 = np.array([5, 6, 7])\n",
    "\n",
    "# SCALAR PRODUCT\n",
    "scalar_prod = np.dot(v1, v2)\n",
    "\n",
    "print(\"Scalar Product:\")\n",
    "print(\"Vector 1:\", v1)\n",
    "print(\"Vector 2:\", v2)\n",
    "print(\"Result:\", scalar_prod)\n",
    "print()\n",
    "\n",
    "\n",
    "A = np.array([[1, 2, 3],\n",
    "              [4, 5, 6],\n",
    "              [7, 8, 9]])\n",
    "v = np.array([1, 2, 3]).reshape([3, 1]) # RESHAPE IS NOT NECESSARY\n",
    "\n",
    "# MATRIX VECTOR PRODUCT\n",
    "mv_product = np.dot(A, v)\n",
    "\n",
    "print(\"Matrix-Vector Product:\")\n",
    "print(\"Matrix:\")\n",
    "print(A)\n",
    "print(\"Vector:\")\n",
    "print(v)\n",
    "print(\"Result:\")\n",
    "print(mv_product)\n",
    "print()\n",
    "\n",
    "B = np.array([[1, 2],\n",
    "              [3, 4],\n",
    "              [5, 6]])\n",
    "C = np.array([[7, 8],\n",
    "              [9, 10]])\n",
    "\n",
    "# MATRIX MATRIX PRODUCT\n",
    "mm_product = np.dot(B, C)\n",
    "\n",
    "print(\"Matrix-Matrix Product:\")\n",
    "print(\"Matrix B:\")\n",
    "print(B)\n",
    "print(\"Matrix C:\")\n",
    "print(C)\n",
    "print(\"Result:\")\n",
    "print(mm_product)\n",
    "print()\n"
   ]
  },
  {
   "cell_type": "markdown",
   "metadata": {},
   "source": [
    "*...Pay attention to the input shapes!*"
   ]
  },
  {
   "cell_type": "code",
   "execution_count": null,
   "metadata": {},
   "outputs": [],
   "source": [
    "a = np.random.rand(3, 4)\n",
    "b = np.random.rand(5, 2)\n",
    "np.dot(a, b)"
   ]
  },
  {
   "cell_type": "markdown",
   "metadata": {},
   "source": [
    "#### Standard Scaling using NumPy Broadcasting\n",
    "Standard scaling (also known as z-score normalization) is a common preprocessing technique used in machine learning to standardize the range of features in the dataset. It transforms the data to have a mean of 0 and a standard deviation of 1.\n"
   ]
  },
  {
   "cell_type": "code",
   "execution_count": null,
   "metadata": {},
   "outputs": [],
   "source": [
    "a = np.random.randint(low=0, high=20, size=[10,])\n",
    "print(\"Array before scaling: \", a)\n",
    "\n",
    "# COMPUTE MEAN AND STANDARD DEVIATION\n",
    "mu = np.mean(a)\n",
    "std = np.std(a)\n",
    "\n",
    "# SCALE\n",
    "a_scaled = (a - mu) / std\n",
    "\n",
    "print(f\"Mean: {mu} --- Standard deviation: {std}\")\n",
    "print(\"Scaled array: \", a_scaled)"
   ]
  }
 ],
 "metadata": {
  "colab": {
   "authorship_tag": "ABX9TyOlF1XpgJgSD4RWe/ExKaRW",
   "provenance": []
  },
  "kernelspec": {
   "display_name": ".venv",
   "language": "python",
   "name": "python3"
  },
  "language_info": {
   "codemirror_mode": {
    "name": "ipython",
    "version": 3
   },
   "file_extension": ".py",
   "mimetype": "text/x-python",
   "name": "python",
   "nbconvert_exporter": "python",
   "pygments_lexer": "ipython3",
   "version": "3.11.12"
  }
 },
 "nbformat": 4,
 "nbformat_minor": 0
}
