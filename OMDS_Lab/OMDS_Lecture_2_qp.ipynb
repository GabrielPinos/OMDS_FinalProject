{
  "cells": [
    {
      "cell_type": "markdown",
      "metadata": {
        "id": "tJzAY22Tif82"
      },
      "source": [
        "# Optimization Methods for Data Science\n",
        "### A.A. 2024-2025\n",
        "\n",
        "Alessandro Pannone\n",
        "\n",
        "Ph.D. Student @ Sapienza University of Rome\n",
        "\n",
        "alessandro.pannone@uniroma1.it"
      ]
    },
    {
      "cell_type": "markdown",
      "metadata": {
        "id": "5aGI94vDij5u"
      },
      "source": [
        "# Lecture 2\n",
        "## Constrained Quadratic Optimization\n"
      ]
    },
    {
      "cell_type": "markdown",
      "metadata": {
        "id": "Uj1UAnRx06oM"
      },
      "source": [
        "Let's suppose we want to solve the following problem:\n",
        "\n",
        "\\begin{aligned}\n",
        "& \\underset{x}{\\text{minimize}}\n",
        "& x_{1}^2+4x_{1}x_{2}+2x_{2}^2+12x_{1}-4x_{2} \\\\\n",
        "& & 4x_{1}-3x_{2}=1312\\\\\n",
        "& & x_{1}+x_{2}\\geq 100\\\\\n",
        "& & x_{1}\\geq 0\\\\\n",
        "& & x_{2}\\geq 0\\\\\n",
        "\\end{aligned}\n",
        "\n",
        "\n",
        "We are goint to use CVXOPT, a free software package for convex optimization based on the Python programming language.\n",
        "https://cvxopt.org/userguide/coneprog.html#quadratic-programming"
      ]
    },
    {
      "cell_type": "code",
      "execution_count": 2,
      "metadata": {
        "id": "-GnJ0sdki8R8"
      },
      "outputs": [],
      "source": [
        "from cvxopt import matrix, solvers\n",
        "import numpy as np"
      ]
    },
    {
      "cell_type": "markdown",
      "metadata": {
        "id": "XvEZAWGAVJ8c"
      },
      "source": [
        "We need to rewrite the problem in the form:\n",
        "\n",
        "\\begin{array}{ll}\n",
        "\\text{minimize} & (1/2) x^TPx + q^T x \\\\\n",
        "\\text{subject to} & Gx \\preceq h \\\\ & Ax = b\n",
        "\\end{array}\n",
        "\n",
        "where:\n",
        "$$\\frac{\\partial f(x)}{\\partial x} = \\begin{bmatrix}2x_1+4x_2+12\\\\ 4x_1+4x_2-4\\end{bmatrix}$$\n",
        "$$P=\\frac{\\partial f^2(x)}{\\partial x^2} = \\begin{bmatrix}2& 4\\\\ 4&4 \\end{bmatrix}$$\n",
        "$$q=\\begin{bmatrix}12\\\\-4\\end{bmatrix}$$\n",
        "$$G=\\begin{bmatrix}-1& -1\\\\ -1 & 0 \\\\ 0 & -1\\end{bmatrix}$$\n",
        "$$h = \\begin{bmatrix}-100\\\\0\\\\0\\end{bmatrix}$$\n",
        "$$A = \\begin{bmatrix}4 & -3\\end{bmatrix}$$\n",
        "$$b = \\begin{bmatrix}1312\\end{bmatrix}$$"
      ]
    },
    {
      "cell_type": "code",
      "execution_count": 3,
      "metadata": {
        "colab": {
          "base_uri": "https://localhost:8080/"
        },
        "id": "S7Ug7eUCkoPf",
        "outputId": "23a558f7-2907-4914-ff34-89d7ba0bb7f5"
      },
      "outputs": [
        {
          "name": "stdout",
          "output_type": "stream",
          "text": [
            "P: \n",
            "[ 2.00e+00  4.00e+00]\n",
            "[ 4.00e+00  4.00e+00]\n",
            "shape = (2, 2)\n",
            "\n",
            "q: \n",
            "[ 1.20e+01]\n",
            "[-4.00e+00]\n",
            "shape = (2, 1)\n",
            "\n",
            "G: \n",
            "[-1.00e+00 -1.00e+00]\n",
            "[-1.00e+00  0.00e+00]\n",
            "[ 0.00e+00 -1.00e+00]\n",
            "shape = (3, 2)\n",
            "\n",
            "h: \n",
            "[-1.00e+02]\n",
            "[ 0.00e+00]\n",
            "[ 0.00e+00]\n",
            "shape = (3, 1)\n",
            "\n",
            "A: \n",
            "[ 4.00e+00 -3.00e+00]\n",
            "shape = (1, 2)\n",
            "\n",
            "b: \n",
            "[ 1.31e+03]\n",
            "shape = (1, 1)\n"
          ]
        }
      ],
      "source": [
        "# Build problem\n",
        "P = matrix(np.array([[2,4],[4,4]]).astype(float))\n",
        "print(f\"P: \\n{P}shape = {P.size}\")\n",
        "print()\n",
        "\n",
        "q = matrix(np.array([12,-4]).astype(float))\n",
        "print(f\"q: \\n{q}shape = {q.size}\")\n",
        "print()\n",
        "\n",
        "G = matrix(np.array([[-1,-1],[-1,0],[0,-1]]).astype(float))\n",
        "print(f\"G: \\n{G}shape = {G.size}\")\n",
        "print()\n",
        "\n",
        "h = matrix(np.array([-100, 0, 0]).astype(float))\n",
        "print(f\"h: \\n{h}shape = {h.size}\")\n",
        "print()\n",
        "\n",
        "A = matrix(np.array([[4,-3]]).astype(float))\n",
        "print(f\"A: \\n{A}shape = {A.size}\")\n",
        "print()\n",
        "\n",
        "b = matrix(np.array([1312]).astype(float))\n",
        "print(f\"b: \\n{b}shape = {b.size}\")"
      ]
    },
    {
      "cell_type": "markdown",
      "metadata": {},
      "source": [
        "In CVXOPT you can typically set various options to control the behavior of the solver and the optimization process. Here are some common options:\n",
        "\n",
        "1. **Optimality Tolerance (`reltol`)**:\n",
        "   - Sets the tolerance for optimality (primal-dual objective difference). It determines when the solver considers a solution optimal.\n",
        "\n",
        "2. **Maximum Number of Iterations (`maxiters`)**:\n",
        "   - Specifies the maximum number of iterations that the solver can perform before terminating.\n",
        "\n",
        "3. **Verbosity (`show_progress`)**:\n",
        "   - Set it to True if you want to monitor optimization progress\n"
      ]
    },
    {
      "cell_type": "code",
      "execution_count": 4,
      "metadata": {},
      "outputs": [],
      "source": [
        "# Set some options (you can treat solvers.options as a python dictionary)\n",
        "solvers.options[\"reltol\"] = 1e-7\n",
        "solvers.options[\"maxiters\"] = 100\n",
        "solvers.options[\"show_progress\"] = True"
      ]
    },
    {
      "cell_type": "code",
      "execution_count": 5,
      "metadata": {
        "id": "WczHrStHlXfd"
      },
      "outputs": [
        {
          "name": "stdout",
          "output_type": "stream",
          "text": [
            "     pcost       dcost       gap    pres   dres\n",
            " 0: -3.5301e+04  3.3289e+04  3e+04  3e+00  5e+01\n",
            " 1:  1.8601e+05  7.5591e+04  1e+05  1e-15  1e-12\n",
            " 2:  1.1261e+05  1.0996e+05  3e+03  6e-16  6e-16\n",
            " 3:  1.1153e+05  1.1150e+05  3e+01  6e-16  5e-14\n",
            " 4:  1.1152e+05  1.1152e+05  3e-01  8e-16  4e-14\n",
            " 5:  1.1152e+05  1.1152e+05  3e-03  4e-23  5e-14\n",
            "Optimal solution found.\n"
          ]
        }
      ],
      "source": [
        "# Solve\n",
        "sol = solvers.qp(P,q,G,h,A,b)"
      ]
    },
    {
      "cell_type": "code",
      "execution_count": 7,
      "metadata": {
        "colab": {
          "base_uri": "https://localhost:8080/"
        },
        "id": "hohRQUa-lh7r",
        "outputId": "fb065a1a-e3b0-44d8-ac89-067d0c183844"
      },
      "outputs": [
        {
          "name": "stdout",
          "output_type": "stream",
          "text": [
            "Solution\n",
            "{'dual infeasibility': 5.4033020950712914e-14,\n",
            " 'dual objective': 111519.99843564274,\n",
            " 'dual slack': 2.826441571162014e-07,\n",
            " 'gap': 0.0026546441274062148,\n",
            " 'iterations': 5,\n",
            " 'primal infeasibility': 4.341043854678289e-23,\n",
            " 'primal objective': 111520.00109028687,\n",
            " 'primal slack': 6.027014182117101e-07,\n",
            " 'relative gap': 2.3804198033038778e-08,\n",
            " 's': <3x1 matrix, tc='d'>,\n",
            " 'status': 'optimal',\n",
            " 'x': <2x1 matrix, tc='d'>,\n",
            " 'y': <1x1 matrix, tc='d'>,\n",
            " 'z': <3x1 matrix, tc='d'>}\n",
            "\n",
            "obj function value: 111520.00109028687\n",
            "\n",
            "optimization status: optimal\n",
            "\n",
            "x*: [ 3.28e+02]\n",
            "[ 6.03e-07]\n",
            "\n"
          ]
        }
      ],
      "source": [
        "from pprint import pprint\n",
        "\n",
        "# Show solution\n",
        "print(\"Solution\")\n",
        "pprint(sol)\n",
        "print()\n",
        "\n",
        "# Obj value\n",
        "obj_value = sol[\"primal objective\"]\n",
        "print(f\"obj function value: {obj_value}\")\n",
        "print()\n",
        "\n",
        "# Optimization status\n",
        "opt_status = sol[\"status\"]\n",
        "print(f\"optimization status: {opt_status}\")\n",
        "print()\n",
        "\n",
        "# Optimal solution (x*)\n",
        "x_star = sol['x']\n",
        "print(f\"x*: {x_star}\")\n",
        "\n",
        "# x_star can be casted as np.array\n",
        "x_star = np.asarray(x_star)"
      ]
    },
    {
      "cell_type": "markdown",
      "metadata": {
        "id": "d5oS4w0oFWC1"
      },
      "source": [
        "Try to solve this problem to exercise to practice!\n",
        "\n",
        "\\begin{aligned}\n",
        "& \\underset{x}{\\text{minimize}}\n",
        "& (x_{1}-2)^2+(3x_{1}-x_{2})^2 \\\\\n",
        "& & x_{1}+x_{2}\\geq 0.7\\\\\n",
        "& & x_{1}\\leq 1\\\\\n",
        "& & x_{2}\\leq 1\\\\\n",
        "& & x_{1}\\geq 0\\\\\n",
        "& & x_{2}\\geq 0\\\\\n",
        "& & 3x_{1}-2x_{2}=0.5\\\\\n",
        "\\end{aligned}"
      ]
    }
  ],
  "metadata": {
    "colab": {
      "provenance": []
    },
    "kernelspec": {
      "display_name": ".venv",
      "language": "python",
      "name": "python3"
    },
    "language_info": {
      "codemirror_mode": {
        "name": "ipython",
        "version": 3
      },
      "file_extension": ".py",
      "mimetype": "text/x-python",
      "name": "python",
      "nbconvert_exporter": "python",
      "pygments_lexer": "ipython3",
      "version": "3.11.12"
    }
  },
  "nbformat": 4,
  "nbformat_minor": 0
}
