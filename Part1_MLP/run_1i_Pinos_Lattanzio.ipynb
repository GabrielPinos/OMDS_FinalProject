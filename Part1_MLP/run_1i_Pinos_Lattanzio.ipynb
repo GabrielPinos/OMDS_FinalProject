{
 "cells": [
  {
   "cell_type": "markdown",
   "id": "86ef8b0b",
   "metadata": {},
   "source": [
    "# **FINAL PROJECT _ Optimization Methods for Data Science** \n",
    "### A.A. 2024-2025\n",
    "\n",
    "**Pinos Gabriel** - 1965035  \n",
    "**Federico Lattanzio** - 1886519\n",
    "\n",
    "pinos.1965035@studenti.uniroma1.it  \n",
    "lattanzio.1886519@studenti.uniroma1.it"
   ]
  },
  {
   "cell_type": "code",
   "execution_count": 1,
   "id": "c500a542",
   "metadata": {},
   "outputs": [],
   "source": [
    "# Import requird packages\n",
    "import pandas as pd\n",
    "import numpy as np\n",
    "from sklearn.preprocessing import StandardScaler\n",
    "from sklearn.model_selection import train_test_split\n",
    "from sklearn.metrics import mean_squared_error, mean_absolute_percentage_error\n",
    "from warnings import filterwarnings\n",
    "import matplotlib.pyplot as plt\n",
    "filterwarnings('ignore')"
   ]
  },
  {
   "cell_type": "code",
   "execution_count": 2,
   "id": "a87f53d3",
   "metadata": {},
   "outputs": [],
   "source": [
    "# Import custom MLP functions\n",
    "from Functions_ij_Pinos_Lattanzio import train_model, cross_validate_model"
   ]
  },
  {
   "cell_type": "markdown",
   "id": "ef6f0d8d",
   "metadata": {},
   "source": [
    "## **Dataset overview**\n",
    "--------"
   ]
  },
  {
   "cell_type": "markdown",
   "id": "695bd8b3",
   "metadata": {},
   "source": [
    "The project leverages a set of UTKFace-derived datasets, each composed of:\n",
    "\n",
    "- ResNet-extracted features labeled as feat_i\n",
    "\n",
    "- A ground-truth target column named `gt`, representing:\n",
    "\n",
    "  -  `AGE_PREDICTION.csv`: float age values ∈ [0, 100]\n",
    "\n",
    "  - `GENDER_CLASSIFICATION.csv`: binary labels (0 = Female, 1 = Male)\n",
    "\n",
    "  - `ETHNICITY_CLASSIFICATION.csv`: 5 ethnicity classes (0–4)\n",
    "\n",
    "We begin with the age prediction dataset."
   ]
  },
  {
   "cell_type": "code",
   "execution_count": 3,
   "id": "ba24d312",
   "metadata": {},
   "outputs": [],
   "source": [
    "age_df = pd.read_csv(\"../dataset/AGE_PREDICTION.csv\")"
   ]
  },
  {
   "cell_type": "markdown",
   "id": "75487041",
   "metadata": {},
   "source": [
    "### **Preview ad structure of the `AGE_PREDICTION.csv` dataset.**"
   ]
  },
  {
   "cell_type": "code",
   "execution_count": 4,
   "id": "843681f2",
   "metadata": {},
   "outputs": [
    {
     "name": "stdout",
     "output_type": "stream",
     "text": [
      "First 10 entries in AGE_PREDICTION dataset:\n"
     ]
    },
    {
     "data": {
      "text/html": [
       "<div>\n",
       "<style scoped>\n",
       "    .dataframe tbody tr th:only-of-type {\n",
       "        vertical-align: middle;\n",
       "    }\n",
       "\n",
       "    .dataframe tbody tr th {\n",
       "        vertical-align: top;\n",
       "    }\n",
       "\n",
       "    .dataframe thead th {\n",
       "        text-align: right;\n",
       "    }\n",
       "</style>\n",
       "<table border=\"1\" class=\"dataframe\">\n",
       "  <thead>\n",
       "    <tr style=\"text-align: right;\">\n",
       "      <th></th>\n",
       "      <th>feat_1</th>\n",
       "      <th>feat_2</th>\n",
       "      <th>feat_3</th>\n",
       "      <th>feat_4</th>\n",
       "      <th>feat_5</th>\n",
       "      <th>feat_6</th>\n",
       "      <th>feat_7</th>\n",
       "      <th>feat_8</th>\n",
       "      <th>feat_9</th>\n",
       "      <th>feat_10</th>\n",
       "      <th>...</th>\n",
       "      <th>feat_24</th>\n",
       "      <th>feat_25</th>\n",
       "      <th>feat_26</th>\n",
       "      <th>feat_27</th>\n",
       "      <th>feat_28</th>\n",
       "      <th>feat_29</th>\n",
       "      <th>feat_30</th>\n",
       "      <th>feat_31</th>\n",
       "      <th>feat_32</th>\n",
       "      <th>gt</th>\n",
       "    </tr>\n",
       "  </thead>\n",
       "  <tbody>\n",
       "    <tr>\n",
       "      <th>0</th>\n",
       "      <td>2.686191</td>\n",
       "      <td>-0.989465</td>\n",
       "      <td>-0.920503</td>\n",
       "      <td>1.607427</td>\n",
       "      <td>-0.896248</td>\n",
       "      <td>1.118974</td>\n",
       "      <td>-0.969456</td>\n",
       "      <td>1.811707</td>\n",
       "      <td>2.560955</td>\n",
       "      <td>3.803463</td>\n",
       "      <td>...</td>\n",
       "      <td>-0.862891</td>\n",
       "      <td>-0.909545</td>\n",
       "      <td>-0.915361</td>\n",
       "      <td>-0.952061</td>\n",
       "      <td>-0.989461</td>\n",
       "      <td>1.911855</td>\n",
       "      <td>1.409705</td>\n",
       "      <td>2.303997</td>\n",
       "      <td>-0.981840</td>\n",
       "      <td>54</td>\n",
       "    </tr>\n",
       "    <tr>\n",
       "      <th>1</th>\n",
       "      <td>-0.887917</td>\n",
       "      <td>4.915272</td>\n",
       "      <td>-0.939446</td>\n",
       "      <td>-0.343677</td>\n",
       "      <td>-0.964685</td>\n",
       "      <td>-0.478649</td>\n",
       "      <td>4.342395</td>\n",
       "      <td>-0.332870</td>\n",
       "      <td>-0.768041</td>\n",
       "      <td>-0.815375</td>\n",
       "      <td>...</td>\n",
       "      <td>-0.939201</td>\n",
       "      <td>-0.965917</td>\n",
       "      <td>-0.969461</td>\n",
       "      <td>-0.934799</td>\n",
       "      <td>5.304822</td>\n",
       "      <td>0.934790</td>\n",
       "      <td>-0.410701</td>\n",
       "      <td>0.284690</td>\n",
       "      <td>4.919212</td>\n",
       "      <td>18</td>\n",
       "    </tr>\n",
       "    <tr>\n",
       "      <th>2</th>\n",
       "      <td>-0.923215</td>\n",
       "      <td>2.746968</td>\n",
       "      <td>-0.918085</td>\n",
       "      <td>0.047804</td>\n",
       "      <td>-0.908587</td>\n",
       "      <td>-0.451752</td>\n",
       "      <td>2.984481</td>\n",
       "      <td>0.535007</td>\n",
       "      <td>-0.591029</td>\n",
       "      <td>-0.324043</td>\n",
       "      <td>...</td>\n",
       "      <td>-0.809726</td>\n",
       "      <td>-0.929934</td>\n",
       "      <td>-0.891814</td>\n",
       "      <td>-0.881796</td>\n",
       "      <td>3.415373</td>\n",
       "      <td>1.044108</td>\n",
       "      <td>-0.442615</td>\n",
       "      <td>0.033648</td>\n",
       "      <td>2.628199</td>\n",
       "      <td>26</td>\n",
       "    </tr>\n",
       "    <tr>\n",
       "      <th>3</th>\n",
       "      <td>-0.268866</td>\n",
       "      <td>-0.408416</td>\n",
       "      <td>-0.935145</td>\n",
       "      <td>0.731800</td>\n",
       "      <td>-0.922438</td>\n",
       "      <td>0.221781</td>\n",
       "      <td>-0.046606</td>\n",
       "      <td>1.149634</td>\n",
       "      <td>0.592136</td>\n",
       "      <td>1.357959</td>\n",
       "      <td>...</td>\n",
       "      <td>-0.834968</td>\n",
       "      <td>-0.937475</td>\n",
       "      <td>-0.917737</td>\n",
       "      <td>-0.929519</td>\n",
       "      <td>-0.226282</td>\n",
       "      <td>1.608048</td>\n",
       "      <td>0.276169</td>\n",
       "      <td>1.246468</td>\n",
       "      <td>-0.363367</td>\n",
       "      <td>33</td>\n",
       "    </tr>\n",
       "    <tr>\n",
       "      <th>4</th>\n",
       "      <td>0.529231</td>\n",
       "      <td>-0.829957</td>\n",
       "      <td>-0.897425</td>\n",
       "      <td>0.921280</td>\n",
       "      <td>-0.865304</td>\n",
       "      <td>0.331018</td>\n",
       "      <td>-0.644940</td>\n",
       "      <td>1.296097</td>\n",
       "      <td>1.166863</td>\n",
       "      <td>2.036034</td>\n",
       "      <td>...</td>\n",
       "      <td>-0.775411</td>\n",
       "      <td>-0.881967</td>\n",
       "      <td>-0.864018</td>\n",
       "      <td>-0.908001</td>\n",
       "      <td>-0.784495</td>\n",
       "      <td>1.329586</td>\n",
       "      <td>0.547925</td>\n",
       "      <td>1.195395</td>\n",
       "      <td>-0.810089</td>\n",
       "      <td>35</td>\n",
       "    </tr>\n",
       "    <tr>\n",
       "      <th>5</th>\n",
       "      <td>-0.793087</td>\n",
       "      <td>1.832985</td>\n",
       "      <td>-0.964968</td>\n",
       "      <td>0.274521</td>\n",
       "      <td>-0.962229</td>\n",
       "      <td>-0.288595</td>\n",
       "      <td>2.333454</td>\n",
       "      <td>0.788157</td>\n",
       "      <td>-0.311396</td>\n",
       "      <td>0.353214</td>\n",
       "      <td>...</td>\n",
       "      <td>-0.923235</td>\n",
       "      <td>-0.969646</td>\n",
       "      <td>-0.970492</td>\n",
       "      <td>-0.961975</td>\n",
       "      <td>2.462071</td>\n",
       "      <td>1.539259</td>\n",
       "      <td>-0.132857</td>\n",
       "      <td>0.922628</td>\n",
       "      <td>2.249941</td>\n",
       "      <td>29</td>\n",
       "    </tr>\n",
       "    <tr>\n",
       "      <th>6</th>\n",
       "      <td>-0.627914</td>\n",
       "      <td>0.537031</td>\n",
       "      <td>-0.846287</td>\n",
       "      <td>0.484149</td>\n",
       "      <td>-0.802970</td>\n",
       "      <td>-0.255616</td>\n",
       "      <td>1.103370</td>\n",
       "      <td>0.905729</td>\n",
       "      <td>0.121083</td>\n",
       "      <td>0.820827</td>\n",
       "      <td>...</td>\n",
       "      <td>-0.712115</td>\n",
       "      <td>-0.826480</td>\n",
       "      <td>-0.794454</td>\n",
       "      <td>-0.831328</td>\n",
       "      <td>1.042797</td>\n",
       "      <td>0.713609</td>\n",
       "      <td>-0.003151</td>\n",
       "      <td>0.097357</td>\n",
       "      <td>0.469993</td>\n",
       "      <td>13</td>\n",
       "    </tr>\n",
       "    <tr>\n",
       "      <th>7</th>\n",
       "      <td>-0.825429</td>\n",
       "      <td>3.686025</td>\n",
       "      <td>-0.979020</td>\n",
       "      <td>0.053158</td>\n",
       "      <td>-0.983342</td>\n",
       "      <td>-0.448615</td>\n",
       "      <td>3.839871</td>\n",
       "      <td>0.161758</td>\n",
       "      <td>-0.641629</td>\n",
       "      <td>-0.414449</td>\n",
       "      <td>...</td>\n",
       "      <td>-0.970626</td>\n",
       "      <td>-0.987172</td>\n",
       "      <td>-0.992049</td>\n",
       "      <td>-0.977634</td>\n",
       "      <td>4.310089</td>\n",
       "      <td>1.683480</td>\n",
       "      <td>-0.217012</td>\n",
       "      <td>1.010501</td>\n",
       "      <td>4.100075</td>\n",
       "      <td>28</td>\n",
       "    </tr>\n",
       "    <tr>\n",
       "      <th>8</th>\n",
       "      <td>1.978345</td>\n",
       "      <td>-0.941560</td>\n",
       "      <td>-0.906123</td>\n",
       "      <td>1.604776</td>\n",
       "      <td>-0.881297</td>\n",
       "      <td>0.819134</td>\n",
       "      <td>-0.879738</td>\n",
       "      <td>1.500830</td>\n",
       "      <td>1.694242</td>\n",
       "      <td>3.005683</td>\n",
       "      <td>...</td>\n",
       "      <td>-0.845833</td>\n",
       "      <td>-0.906470</td>\n",
       "      <td>-0.917842</td>\n",
       "      <td>-0.910915</td>\n",
       "      <td>-0.926480</td>\n",
       "      <td>1.689097</td>\n",
       "      <td>1.170266</td>\n",
       "      <td>1.745933</td>\n",
       "      <td>-0.939529</td>\n",
       "      <td>43</td>\n",
       "    </tr>\n",
       "    <tr>\n",
       "      <th>9</th>\n",
       "      <td>6.975595</td>\n",
       "      <td>-0.999944</td>\n",
       "      <td>-0.979416</td>\n",
       "      <td>5.483491</td>\n",
       "      <td>-0.976307</td>\n",
       "      <td>3.397312</td>\n",
       "      <td>-0.999714</td>\n",
       "      <td>2.934085</td>\n",
       "      <td>6.361970</td>\n",
       "      <td>9.293163</td>\n",
       "      <td>...</td>\n",
       "      <td>-0.980985</td>\n",
       "      <td>-0.976980</td>\n",
       "      <td>-0.982636</td>\n",
       "      <td>-0.989800</td>\n",
       "      <td>-0.999934</td>\n",
       "      <td>5.141039</td>\n",
       "      <td>4.198592</td>\n",
       "      <td>6.156951</td>\n",
       "      <td>-0.999915</td>\n",
       "      <td>54</td>\n",
       "    </tr>\n",
       "  </tbody>\n",
       "</table>\n",
       "<p>10 rows × 33 columns</p>\n",
       "</div>"
      ],
      "text/plain": [
       "     feat_1    feat_2    feat_3    feat_4    feat_5    feat_6    feat_7  \\\n",
       "0  2.686191 -0.989465 -0.920503  1.607427 -0.896248  1.118974 -0.969456   \n",
       "1 -0.887917  4.915272 -0.939446 -0.343677 -0.964685 -0.478649  4.342395   \n",
       "2 -0.923215  2.746968 -0.918085  0.047804 -0.908587 -0.451752  2.984481   \n",
       "3 -0.268866 -0.408416 -0.935145  0.731800 -0.922438  0.221781 -0.046606   \n",
       "4  0.529231 -0.829957 -0.897425  0.921280 -0.865304  0.331018 -0.644940   \n",
       "5 -0.793087  1.832985 -0.964968  0.274521 -0.962229 -0.288595  2.333454   \n",
       "6 -0.627914  0.537031 -0.846287  0.484149 -0.802970 -0.255616  1.103370   \n",
       "7 -0.825429  3.686025 -0.979020  0.053158 -0.983342 -0.448615  3.839871   \n",
       "8  1.978345 -0.941560 -0.906123  1.604776 -0.881297  0.819134 -0.879738   \n",
       "9  6.975595 -0.999944 -0.979416  5.483491 -0.976307  3.397312 -0.999714   \n",
       "\n",
       "     feat_8    feat_9   feat_10  ...   feat_24   feat_25   feat_26   feat_27  \\\n",
       "0  1.811707  2.560955  3.803463  ... -0.862891 -0.909545 -0.915361 -0.952061   \n",
       "1 -0.332870 -0.768041 -0.815375  ... -0.939201 -0.965917 -0.969461 -0.934799   \n",
       "2  0.535007 -0.591029 -0.324043  ... -0.809726 -0.929934 -0.891814 -0.881796   \n",
       "3  1.149634  0.592136  1.357959  ... -0.834968 -0.937475 -0.917737 -0.929519   \n",
       "4  1.296097  1.166863  2.036034  ... -0.775411 -0.881967 -0.864018 -0.908001   \n",
       "5  0.788157 -0.311396  0.353214  ... -0.923235 -0.969646 -0.970492 -0.961975   \n",
       "6  0.905729  0.121083  0.820827  ... -0.712115 -0.826480 -0.794454 -0.831328   \n",
       "7  0.161758 -0.641629 -0.414449  ... -0.970626 -0.987172 -0.992049 -0.977634   \n",
       "8  1.500830  1.694242  3.005683  ... -0.845833 -0.906470 -0.917842 -0.910915   \n",
       "9  2.934085  6.361970  9.293163  ... -0.980985 -0.976980 -0.982636 -0.989800   \n",
       "\n",
       "    feat_28   feat_29   feat_30   feat_31   feat_32  gt  \n",
       "0 -0.989461  1.911855  1.409705  2.303997 -0.981840  54  \n",
       "1  5.304822  0.934790 -0.410701  0.284690  4.919212  18  \n",
       "2  3.415373  1.044108 -0.442615  0.033648  2.628199  26  \n",
       "3 -0.226282  1.608048  0.276169  1.246468 -0.363367  33  \n",
       "4 -0.784495  1.329586  0.547925  1.195395 -0.810089  35  \n",
       "5  2.462071  1.539259 -0.132857  0.922628  2.249941  29  \n",
       "6  1.042797  0.713609 -0.003151  0.097357  0.469993  13  \n",
       "7  4.310089  1.683480 -0.217012  1.010501  4.100075  28  \n",
       "8 -0.926480  1.689097  1.170266  1.745933 -0.939529  43  \n",
       "9 -0.999934  5.141039  4.198592  6.156951 -0.999915  54  \n",
       "\n",
       "[10 rows x 33 columns]"
      ]
     },
     "metadata": {},
     "output_type": "display_data"
    },
    {
     "name": "stdout",
     "output_type": "stream",
     "text": [
      "\n",
      " - Total samples: 20475\n",
      " -  Feature of features (excluding target): 32\n"
     ]
    }
   ],
   "source": [
    "# Preview first entries \n",
    "print(\"First 10 entries in AGE_PREDICTION dataset:\")\n",
    "display(age_df.head(10))\n",
    "\n",
    "# Dataset shape\n",
    "print(f\"\\n - Total samples: {len(age_df)}\")\n",
    "print(f\" -  Feature of features (excluding target): {age_df.shape[1] - 1}\")\n"
   ]
  },
  {
   "cell_type": "markdown",
   "id": "9065cf77",
   "metadata": {},
   "source": [
    "### **Age Distribution**"
   ]
  },
  {
   "cell_type": "code",
   "execution_count": 5,
   "id": "dec29904",
   "metadata": {},
   "outputs": [
    {
     "data": {
      "image/png": "[encoded data removed]",
      "text/plain": [
       "<Figure size 800x500 with 1 Axes>"
      ]
     },
     "metadata": {},
     "output_type": "display_data"
    }
   ],
   "source": [
    "# Improved histogram plot\n",
    "plt.figure(figsize=(8, 5))\n",
    "plt.hist(age_df['gt'], bins=30, edgecolor='white', color='#4A90E2', alpha=0.85)\n",
    "plt.title(\"Age Distribution\", fontsize=16)\n",
    "plt.xlabel(\"Age\", fontsize=12)\n",
    "plt.ylabel(\"Frequency\", fontsize=12)\n",
    "plt.grid(axis='y', alpha=0.3)\n",
    "plt.tight_layout()\n",
    "plt.show()"
   ]
  },
  {
   "cell_type": "markdown",
   "id": "d56dc18f",
   "metadata": {},
   "source": [
    "## **Part 1: Multi-Layer-Perceptron for age regression**\n",
    "------\n",
    "#### **Objective**\n",
    "In this part, we implement a **Multi-Layer Perceptron (MLP)** from scratch (no high-level DL frameworks) to solve a regression task: predict the age of a person based on features extracted from facial images.\n",
    "\n",
    "We aim to:\n",
    "\n",
    "-   Train a deep **MLP** with at least **2 hidden layers**\n",
    "\n",
    "-   Minimize **L2-regularized** squared loss\n",
    "\n",
    "-   Use `scipy.optimize` as optimizer (e.g., **L-BFGS-B**)\n",
    "\n",
    "-   Tune hyperparameters via **k-fold cross-validation**\n",
    "\n",
    "-   Evaluate performance using:\n",
    "\n",
    "    -   **MSE** (Mean Squared Error)\n",
    "\n",
    "    -   **MAPE** (Mean Absolute Percentage Error)\n",
    "\n"
   ]
  },
  {
   "cell_type": "markdown",
   "id": "0e113528",
   "metadata": {},
   "source": [
    "### **Theoretical Background**\n",
    "\n",
    "A Multi-Layer Perceptron is a feedforward neural network composed of layers of neurons. Each neuron performs a linear transformation followed by a non-linear activation. For this regression task, we define the loss function as:\n",
    "\n",
    "$$\n",
    "E(\\omega, \\beta) = \\frac{1}{N} \\sum_{i=1}^N (y_i - \\hat{y}_i)^2 + \\lambda \\sum_{l=1}^{L} \\|\\omega^{(l)}\\|_2^2\n",
    "$$\n",
    "\n",
    "Where:\n",
    "- $y_i$ is the true age\n",
    "- $\\hat{y}_i$ is the predicted age\n",
    "- $\\omega^{(l)}$ is the weight matrix for layer $l$\n",
    "- $\\lambda$ is the regularization coefficient\n",
    "\n",
    "The **regularization term** helps prevent overfitting by penalizing large weights."
   ]
  },
  {
   "cell_type": "markdown",
   "id": "3bf0f6ee",
   "metadata": {},
   "source": [
    "### **Step 1: Data Preparation**  \n",
    "   We first separate features from the target, then apply **standardization**."
   ]
  },
  {
   "cell_type": "code",
   "execution_count": 6,
   "id": "2b3a55e2",
   "metadata": {},
   "outputs": [],
   "source": [
    "# ➤ Separate features and target\n",
    "X = age_df.drop(columns=['gt']).values     # Feature matrix\n",
    "y = age_df['gt'].values                    # Target vector "
   ]
  },
  {
   "cell_type": "markdown",
   "id": "fd1a3ecc",
   "metadata": {},
   "source": [
    "#### **Data Splitting and Normalization**\n",
    "\n",
    "We follow a **two-stage data strategy**:\n",
    "\n",
    "-   **Hold-out test set**: 20% of the dataset is reserved as an untouched test set for final evaluation.\n",
    "\n",
    "\n",
    "-   **Training/validation set**: The remaining 80% will be used for **k-fold cross-validation** to tune the model's hyperparameters.\n",
    "\n",
    "\n",
    "This separation ensures that the final test metrics are unbiased, as they reflect the model's generalization ability on unseen data after training and tuning.\n",
    "\n",
    "**Important**:  \n",
    "Feature standardization (`StandardScaler`) is applied only on the training set, using `fit_transform`.\n",
    "The test set is transformed using the same scaler via transform.\n",
    "\n",
    "This avoids **data leakage** — we must not use any information from the test set (like its **mean** or **standard deviation**) during training, as this would lead to overfitting and artificially low test error."
   ]
  },
  {
   "cell_type": "code",
   "execution_count": 7,
   "id": "c06fdc71",
   "metadata": {},
   "outputs": [
    {
     "name": "stdout",
     "output_type": "stream",
     "text": [
      "Training set samples: 16380\n",
      "Test set samples    : 4095\n"
     ]
    }
   ],
   "source": [
    "# ➤ Step 1: Split into training/validation and test set (80% / 20%)\n",
    "X_tr, X_ts, Y_tr, Y_ts = train_test_split(X, y, test_size=0.2, random_state=123)\n",
    "\n",
    "# ➤ Step 2: Standardize features using training set statistics only\n",
    "scaler = StandardScaler()\n",
    "X_tr = scaler.fit_transform(X_tr)   # Fit + transform on training set\n",
    "X_ts = scaler.transform(X_ts)       # Only transform test set\n",
    "\n",
    "# ➤ Dataset dimensions check\n",
    "print(f\"Training set samples: {X_tr.shape[0]}\")\n",
    "print(f\"Test set samples    : {X_ts.shape[0]}\")"
   ]
  },
  {
   "cell_type": "markdown",
   "id": "94cb5e35",
   "metadata": {},
   "source": [
    "### **Hyperparameter Tuning via Cross-Validation**\n",
    "\n",
    "To identify the best model architecture and regularization strength, we define a set of candidate configurations. Each configuration includes:\n",
    "\n",
    "* The number of hidden layers and neurons per layer\n",
    "* The non-linear activation function (`tanh` or `sigmoid`)\n",
    "* The L2 regularization coefficient λ\n",
    "\n",
    "These configurations will be evaluated via **5-fold cross-validation** using **Mean Absolute Percentage Error (MAPE)** as the metric."
   ]
  },
  {
   "cell_type": "code",
   "execution_count": 8,
   "id": "b6683594",
   "metadata": {},
   "outputs": [],
   "source": [
    "# ➤ Define model configurations\n",
    "input_dim = X_tr.shape[1]\n",
    "\n",
    "configs = [\n",
    "    {\"layers\": [input_dim, 32, 1],           \"activation\": \"tanh\",    \"lambda\": 1e-4},  # 1 hidden layer, light regularization\n",
    "    {\"layers\": [input_dim, 64, 32, 1],       \"activation\": \"tanh\",    \"lambda\": 1e-3},  # 2 hidden layers\n",
    "    {\"layers\": [input_dim, 64, 64, 32, 1],   \"activation\": \"sigmoid\", \"lambda\": 1e-4},  # 3 hidden layers, sigmoid\n",
    "]"
   ]
  },
  {
   "cell_type": "markdown",
   "id": "1c4508c0",
   "metadata": {},
   "source": [
    "### **Performing 5-Fold Cross-Validation**\n",
    "\n",
    "We now evaluate each configuration using **5-fold cross-validation** on the training set:\n",
    "\n",
    "* Each fold is used once as validation, the remaining 4 for training.\n",
    "* The model is trained from scratch at each fold.\n",
    "* The average validation MAPE across the 5 folds is used to select the best model."
   ]
  },
  {
   "cell_type": "code",
   "execution_count": 9,
   "id": "80ab0710",
   "metadata": {},
   "outputs": [
    {
     "name": "stdout",
     "output_type": "stream",
     "text": [
      "\n",
      " - Best Config Selected: {'layers': [32, 32, 1], 'activation': 'tanh', 'lambda': 0.0001}\n",
      "\n",
      "=== SELECTED CONFIGURATION ===\n",
      "Layers: [32, 32, 1]\n",
      "Activation: tanh\n",
      "Lambda: 0.0001\n",
      "Number of hidden layers: 1\n"
     ]
    }
   ],
   "source": [
    "best_config, all_results, best_score = cross_validate_model(\n",
    "    X_tr, Y_tr,\n",
    "    k_folds=5,\n",
    "    configs=configs,\n",
    "    scoring='mape'\n",
    ")\n",
    "\n",
    "# Display selected configuration\n",
    "print(\"\\n - Best Config Selected:\", best_config)\n",
    "\n",
    "print(\"\\n=== SELECTED CONFIGURATION ===\")\n",
    "print(f\"Layers: {best_config['layers']}\")\n",
    "print(f\"Activation: {best_config['activation']}\")\n",
    "print(f\"Lambda: {best_config['lambda']}\")\n",
    "print(f\"Number of hidden layers: {len(best_config['layers']) - 2}\")\n"
   ]
  },
  {
   "cell_type": "code",
   "execution_count": 10,
   "id": "9edbef84",
   "metadata": {},
   "outputs": [
    {
     "name": "stdout",
     "output_type": "stream",
     "text": [
      "\n",
      "=== ALL CONFIGURATIONS ===\n",
      "{'layers': [32, 32, 1], 'activation': 'tanh', 'lambda': 0.0001} → Avg Val MAPE: 23.18\n",
      "{'layers': [32, 64, 32, 1], 'activation': 'tanh', 'lambda': 0.001} → Avg Val MAPE: 23.38\n",
      "{'layers': [32, 64, 64, 32, 1], 'activation': 'sigmoid', 'lambda': 0.0001} → Avg Val MAPE: 42.37\n"
     ]
    }
   ],
   "source": [
    "# Print results for all configurations\n",
    "print(\"\\n=== ALL CONFIGURATIONS ===\")\n",
    "for config, val_error in all_results:\n",
    "    print(f\"{config} → Avg Val MAPE: {val_error:.2f}\")"
   ]
  },
  {
   "cell_type": "markdown",
   "id": "4c2be5c0",
   "metadata": {},
   "source": [
    "### **Final Model Training on Full Training Set**\n",
    "\n",
    "Once the best configuration is selected, we train the final model on the **entire training set**, using normalized targets.  \n",
    "The training is performed using the **L-BFGS-B optimizer** from `scipy.optimize`."
   ]
  },
  {
   "cell_type": "code",
   "execution_count": 16,
   "id": "44f9dfab",
   "metadata": {},
   "outputs": [],
   "source": [
    "# Normalize target for final training\n",
    "y_min, y_max = Y_tr.min(), Y_tr.max()\n",
    "Y_tr_norm = (Y_tr - y_min) / (y_max - y_min)\n",
    "\n",
    "# Train the final model\n",
    "final_model, opt_result, train_time = train_model(\n",
    "    X_tr, Y_tr_norm,\n",
    "    layer_sizes=best_config['layers'],\n",
    "    activation=best_config['activation'],\n",
    "    lambda_reg=best_config['lambda'],\n",
    "    max_iter=1000\n",
    ")"
   ]
  },
  {
   "cell_type": "markdown",
   "id": "3758af5b",
   "metadata": {},
   "source": [
    "### **Model Predictions and Denormalization**"
   ]
  },
  {
   "cell_type": "code",
   "execution_count": 17,
   "id": "89afe306",
   "metadata": {},
   "outputs": [],
   "source": [
    "# Predict on training and test set\n",
    "y_tr_pred = final_model.predict(X_tr) * (y_max - y_min) + y_min\n",
    "y_ts_pred = final_model.predict(X_ts) * (y_max - y_min) + y_min"
   ]
  },
  {
   "cell_type": "markdown",
   "id": "f5198b4c",
   "metadata": {},
   "source": [
    "### **Model Evaluation**\n",
    "\n",
    "We now evaluate the model on both the training and test set using **MSE** and **MAPE**."
   ]
  },
  {
   "cell_type": "code",
   "execution_count": null,
   "id": "10a18802",
   "metadata": {},
   "outputs": [
    {
     "name": "stdout",
     "output_type": "stream",
     "text": [
      "\n",
      "--- FINAL MODEL PERFORMANCE ---\n",
      "Training MSE  - LOSS: 94.6926\n",
      "Training MAPE : 23.09%\n",
      "Test MSE - LOSS     : 95.7274\n",
      "Test MAPE     : 23.68%\n"
     ]
    }
   ],
   "source": [
    "# Compute metrics\n",
    "mse_train = mean_squared_error(Y_tr, y_tr_pred)\n",
    "mape_train = mean_absolute_percentage_error(Y_tr, y_tr_pred) * 100\n",
    "\n",
    "mse_test = mean_squared_error(Y_ts, y_ts_pred)\n",
    "mape_test = mean_absolute_percentage_error(Y_ts, y_ts_pred) * 100\n",
    "\n",
    "# Display performance\n",
    "print(\"\\n--- FINAL MODEL PERFORMANCE ---\")\n",
    "print(f\"Training MSE - LOSS: {mse_train:.4f}\")\n",
    "print(f\"Training MAPE : {mape_train:.2f}%\")\n",
    "print(f\"Test MSE - LOSS     : {mse_test:.4f}\")\n",
    "print(f\"Test MAPE     : {mape_test:.2f}%\")"
   ]
  },
  {
   "cell_type": "markdown",
   "id": "cc49cac2",
   "metadata": {},
   "source": [
    "### **Optimization Summary**"
   ]
  },
  {
   "cell_type": "code",
   "execution_count": null,
   "id": "40a5f08a",
   "metadata": {},
   "outputs": [
    {
     "name": "stdout",
     "output_type": "stream",
     "text": [
      "\n",
      "=== OPTIMIZATION DETAILS ===\n",
      "Optimizer success        : True\n",
      "Message                  : CONVERGENCE: NORM_OF_PROJECTED_GRADIENT_<=_PGTOL\n",
      "Final loss (reg. error)  : 0.015254282174966678\n",
      "Number of iterations     : 579\n",
      "Optimization time        : 3.34 seconds\n"
     ]
    }
   ],
   "source": [
    "print(\"\\n=== OPTIMIZATION DETAILS ===\")\n",
    "print(\"Optimizer success        :\", opt_result.success)\n",
    "print(\"Message                  :\", opt_result.message)\n",
    "print(\"Final loss (with regularization)  :\", opt_result.fun)\n",
    "print(\"Number of iterations     :\", opt_result.nit)\n",
    "print(f\"Optimization time        : {train_time:.2f} seconds\")"
   ]
  }
 ],
 "metadata": {
  "kernelspec": {
   "display_name": "Python 3",
   "language": "python",
   "name": "python3"
  },
  "language_info": {
   "codemirror_mode": {
    "name": "ipython",
    "version": 3
   },
   "file_extension": ".py",
   "mimetype": "text/x-python",
   "name": "python",
   "nbconvert_exporter": "python",
   "pygments_lexer": "ipython3",
   "version": "3.9.6"
  }
 },
 "nbformat": 4,
 "nbformat_minor": 5
}
