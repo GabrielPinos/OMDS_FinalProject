{
 "cells": [
  {
   "cell_type": "markdown",
   "id": "3a36c2f2",
   "metadata": {},
   "source": [
    "# **FINAL PROJECT _ Optimization Methods for Data Science** \n",
    "### A.A. 2024-2025\n",
    "\n",
    "**Pinos Gabriel** - 1965035  \n",
    "**Federico Lattanzio** - 1886519\n",
    "\n",
    "pinos.1965035@studenti.uniroma1.it  \n",
    "lattanzio.1886519@studenti.uniroma1.it"
   ]
  },
  {
   "cell_type": "code",
   "execution_count": 1,
   "id": "708912f7",
   "metadata": {},
   "outputs": [],
   "source": [
    "# Import all the necessary modules\n",
    "\n",
    "import numpy as np\n",
    "import pandas as pd\n",
    "from warnings import filterwarnings\n",
    "filterwarnings('ignore')\n",
    "\n",
    "import matplotlib.pyplot as plt\n",
    "import seaborn as sns\n",
    "\n",
    "from sklearn.model_selection import train_test_split\n",
    "from sklearn.preprocessing import StandardScaler\n",
    "from sklearn.metrics import accuracy_score, confusion_matrix, classification_report\n",
    "\n",
    "from Functions_ij_Pinos_Lattanzio import (\n",
    "    rbf_kernel,\n",
    "    train_svm_dual_cvxopt,\n",
    "    predict_svm_dual,\n",
    "    cross_validate_svm_cvxopt,\n",
    "    compute_kernel_matrix,\n",
    "    decision_function_svm_dual,\n",
    "    OneVsAllSVM \n",
    ")"
   ]
  },
  {
   "cell_type": "markdown",
   "id": "77701ce2",
   "metadata": {},
   "source": [
    "## **Dataset overview**\n",
    "--------"
   ]
  },
  {
   "cell_type": "markdown",
   "id": "42d0d3ae",
   "metadata": {},
   "source": [
    "We begin by exploring the dataset `GENDER_CLASSIFICATION.csv`, which contains image embeddings extracted from a ResNet backbone, alongside gender labels:\n",
    "\n",
    "* Feature columns: `feat_i`, representing deep features for each image.\n",
    "* Target column: `gt`, where `0` corresponds to *female* and `1` to *male*.\n",
    "\n",
    "We will use this dataset to perform **binary classification** using a Support Vector Machine (SVM)."
   ]
  },
  {
   "cell_type": "code",
   "execution_count": 2,
   "id": "36cb286e",
   "metadata": {},
   "outputs": [
    {
     "name": "stdout",
     "output_type": "stream",
     "text": [
      "Dataset shape: (1000, 32) | +1: 500 | -1: 500\n"
     ]
    }
   ],
   "source": [
    "# Load the gender classification dataset\n",
    "\n",
    "gender_df = pd.read_csv(\"../dataset/GENDER_CLASSIFICATION.csv\")\n",
    "X = gender_df.drop(columns=['gt']).values\n",
    "y = gender_df['gt'].values\n",
    "y_svm = np.where(y == 0, -1, 1)\n",
    "print(f\"Dataset shape: {X.shape} | +1: {(y_svm==1).sum()} | -1: {(y_svm==-1).sum()}\")"
   ]
  },
  {
   "cell_type": "markdown",
   "id": "e58d3e89",
   "metadata": {},
   "source": [
    "### **Dataset Inspection**\n",
    "\n",
    "Let’s examine the structure and distribution of the gender labels."
   ]
  },
  {
   "cell_type": "code",
   "execution_count": 3,
   "id": "660b0627",
   "metadata": {},
   "outputs": [
    {
     "name": "stdout",
     "output_type": "stream",
     "text": [
      "First 10 entries in the dataset:\n"
     ]
    },
    {
     "data": {
      "text/html": [
       "<div>\n",
       "<style scoped>\n",
       "    .dataframe tbody tr th:only-of-type {\n",
       "        vertical-align: middle;\n",
       "    }\n",
       "\n",
       "    .dataframe tbody tr th {\n",
       "        vertical-align: top;\n",
       "    }\n",
       "\n",
       "    .dataframe thead th {\n",
       "        text-align: right;\n",
       "    }\n",
       "</style>\n",
       "<table border=\"1\" class=\"dataframe\">\n",
       "  <thead>\n",
       "    <tr style=\"text-align: right;\">\n",
       "      <th></th>\n",
       "      <th>feat_1</th>\n",
       "      <th>feat_2</th>\n",
       "      <th>feat_3</th>\n",
       "      <th>feat_4</th>\n",
       "      <th>feat_5</th>\n",
       "      <th>feat_6</th>\n",
       "      <th>feat_7</th>\n",
       "      <th>feat_8</th>\n",
       "      <th>feat_9</th>\n",
       "      <th>feat_10</th>\n",
       "      <th>...</th>\n",
       "      <th>feat_24</th>\n",
       "      <th>feat_25</th>\n",
       "      <th>feat_26</th>\n",
       "      <th>feat_27</th>\n",
       "      <th>feat_28</th>\n",
       "      <th>feat_29</th>\n",
       "      <th>feat_30</th>\n",
       "      <th>feat_31</th>\n",
       "      <th>feat_32</th>\n",
       "      <th>gt</th>\n",
       "    </tr>\n",
       "  </thead>\n",
       "  <tbody>\n",
       "    <tr>\n",
       "      <th>0</th>\n",
       "      <td>-0.900846</td>\n",
       "      <td>0.102587</td>\n",
       "      <td>-0.397814</td>\n",
       "      <td>0.112796</td>\n",
       "      <td>2.588096</td>\n",
       "      <td>-0.192754</td>\n",
       "      <td>-0.968311</td>\n",
       "      <td>-0.490886</td>\n",
       "      <td>-0.872099</td>\n",
       "      <td>-0.288411</td>\n",
       "      <td>...</td>\n",
       "      <td>2.541431</td>\n",
       "      <td>1.739102</td>\n",
       "      <td>0.166066</td>\n",
       "      <td>4.584869</td>\n",
       "      <td>-0.107031</td>\n",
       "      <td>-0.913990</td>\n",
       "      <td>-0.686416</td>\n",
       "      <td>-0.368085</td>\n",
       "      <td>-0.870545</td>\n",
       "      <td>0</td>\n",
       "    </tr>\n",
       "    <tr>\n",
       "      <th>1</th>\n",
       "      <td>-0.838868</td>\n",
       "      <td>0.039976</td>\n",
       "      <td>-0.387101</td>\n",
       "      <td>0.055413</td>\n",
       "      <td>2.066874</td>\n",
       "      <td>-0.226948</td>\n",
       "      <td>-0.947416</td>\n",
       "      <td>-0.472817</td>\n",
       "      <td>-0.855387</td>\n",
       "      <td>-0.207101</td>\n",
       "      <td>...</td>\n",
       "      <td>1.991721</td>\n",
       "      <td>1.259745</td>\n",
       "      <td>0.065058</td>\n",
       "      <td>3.019790</td>\n",
       "      <td>-0.110633</td>\n",
       "      <td>-0.890023</td>\n",
       "      <td>-0.611625</td>\n",
       "      <td>-0.298235</td>\n",
       "      <td>-0.855208</td>\n",
       "      <td>0</td>\n",
       "    </tr>\n",
       "    <tr>\n",
       "      <th>2</th>\n",
       "      <td>-0.814961</td>\n",
       "      <td>-0.010184</td>\n",
       "      <td>-0.397147</td>\n",
       "      <td>0.092713</td>\n",
       "      <td>1.897454</td>\n",
       "      <td>-0.269387</td>\n",
       "      <td>-0.945285</td>\n",
       "      <td>-0.449579</td>\n",
       "      <td>-0.849705</td>\n",
       "      <td>-0.151179</td>\n",
       "      <td>...</td>\n",
       "      <td>1.822978</td>\n",
       "      <td>1.105511</td>\n",
       "      <td>0.065353</td>\n",
       "      <td>2.500681</td>\n",
       "      <td>-0.052730</td>\n",
       "      <td>-0.885691</td>\n",
       "      <td>-0.583346</td>\n",
       "      <td>-0.218140</td>\n",
       "      <td>-0.856456</td>\n",
       "      <td>0</td>\n",
       "    </tr>\n",
       "    <tr>\n",
       "      <th>3</th>\n",
       "      <td>-0.110470</td>\n",
       "      <td>0.027849</td>\n",
       "      <td>-0.044310</td>\n",
       "      <td>-0.005343</td>\n",
       "      <td>0.177831</td>\n",
       "      <td>-0.232092</td>\n",
       "      <td>-0.562700</td>\n",
       "      <td>-0.400713</td>\n",
       "      <td>-0.552356</td>\n",
       "      <td>0.037349</td>\n",
       "      <td>...</td>\n",
       "      <td>-0.098367</td>\n",
       "      <td>-0.370318</td>\n",
       "      <td>-0.123008</td>\n",
       "      <td>-0.861314</td>\n",
       "      <td>0.106840</td>\n",
       "      <td>-0.483669</td>\n",
       "      <td>-0.224164</td>\n",
       "      <td>0.147321</td>\n",
       "      <td>-0.615051</td>\n",
       "      <td>0</td>\n",
       "    </tr>\n",
       "    <tr>\n",
       "      <th>4</th>\n",
       "      <td>-0.626313</td>\n",
       "      <td>-0.091985</td>\n",
       "      <td>-0.373756</td>\n",
       "      <td>-0.005083</td>\n",
       "      <td>1.172486</td>\n",
       "      <td>-0.314868</td>\n",
       "      <td>-0.885046</td>\n",
       "      <td>-0.412587</td>\n",
       "      <td>-0.818729</td>\n",
       "      <td>-0.012022</td>\n",
       "      <td>...</td>\n",
       "      <td>1.030348</td>\n",
       "      <td>0.421886</td>\n",
       "      <td>-0.068029</td>\n",
       "      <td>0.258984</td>\n",
       "      <td>-0.057158</td>\n",
       "      <td>-0.834079</td>\n",
       "      <td>-0.441066</td>\n",
       "      <td>-0.099874</td>\n",
       "      <td>-0.829539</td>\n",
       "      <td>0</td>\n",
       "    </tr>\n",
       "    <tr>\n",
       "      <th>5</th>\n",
       "      <td>-0.941448</td>\n",
       "      <td>0.165438</td>\n",
       "      <td>-0.392049</td>\n",
       "      <td>0.205172</td>\n",
       "      <td>3.134455</td>\n",
       "      <td>-0.161057</td>\n",
       "      <td>-0.982058</td>\n",
       "      <td>-0.499061</td>\n",
       "      <td>-0.884788</td>\n",
       "      <td>-0.341288</td>\n",
       "      <td>...</td>\n",
       "      <td>3.115495</td>\n",
       "      <td>2.232003</td>\n",
       "      <td>0.289214</td>\n",
       "      <td>6.179787</td>\n",
       "      <td>-0.052086</td>\n",
       "      <td>-0.932607</td>\n",
       "      <td>-0.753994</td>\n",
       "      <td>-0.415275</td>\n",
       "      <td>-0.885618</td>\n",
       "      <td>0</td>\n",
       "    </tr>\n",
       "    <tr>\n",
       "      <th>6</th>\n",
       "      <td>-0.624388</td>\n",
       "      <td>-0.080687</td>\n",
       "      <td>-0.366623</td>\n",
       "      <td>-0.049865</td>\n",
       "      <td>1.192401</td>\n",
       "      <td>-0.295711</td>\n",
       "      <td>-0.877278</td>\n",
       "      <td>-0.429471</td>\n",
       "      <td>-0.818519</td>\n",
       "      <td>-0.060946</td>\n",
       "      <td>...</td>\n",
       "      <td>1.045350</td>\n",
       "      <td>0.420301</td>\n",
       "      <td>-0.071344</td>\n",
       "      <td>0.328387</td>\n",
       "      <td>-0.099864</td>\n",
       "      <td>-0.831247</td>\n",
       "      <td>-0.436137</td>\n",
       "      <td>-0.157848</td>\n",
       "      <td>-0.824938</td>\n",
       "      <td>0</td>\n",
       "    </tr>\n",
       "    <tr>\n",
       "      <th>7</th>\n",
       "      <td>-0.360967</td>\n",
       "      <td>-0.055136</td>\n",
       "      <td>-0.222737</td>\n",
       "      <td>0.087353</td>\n",
       "      <td>0.521053</td>\n",
       "      <td>-0.297690</td>\n",
       "      <td>-0.790068</td>\n",
       "      <td>-0.485822</td>\n",
       "      <td>-0.745810</td>\n",
       "      <td>0.106832</td>\n",
       "      <td>...</td>\n",
       "      <td>0.249262</td>\n",
       "      <td>-0.195481</td>\n",
       "      <td>-0.132257</td>\n",
       "      <td>-0.800665</td>\n",
       "      <td>0.101134</td>\n",
       "      <td>-0.720496</td>\n",
       "      <td>-0.286264</td>\n",
       "      <td>0.140425</td>\n",
       "      <td>-0.767403</td>\n",
       "      <td>0</td>\n",
       "    </tr>\n",
       "    <tr>\n",
       "      <th>8</th>\n",
       "      <td>-0.313211</td>\n",
       "      <td>-0.053253</td>\n",
       "      <td>-0.220183</td>\n",
       "      <td>0.105120</td>\n",
       "      <td>0.460798</td>\n",
       "      <td>-0.311198</td>\n",
       "      <td>-0.772821</td>\n",
       "      <td>-0.473726</td>\n",
       "      <td>-0.724301</td>\n",
       "      <td>0.113229</td>\n",
       "      <td>...</td>\n",
       "      <td>0.173077</td>\n",
       "      <td>-0.230969</td>\n",
       "      <td>-0.142840</td>\n",
       "      <td>-0.830226</td>\n",
       "      <td>0.126386</td>\n",
       "      <td>-0.694164</td>\n",
       "      <td>-0.241437</td>\n",
       "      <td>0.184116</td>\n",
       "      <td>-0.760070</td>\n",
       "      <td>0</td>\n",
       "    </tr>\n",
       "    <tr>\n",
       "      <th>9</th>\n",
       "      <td>1.353326</td>\n",
       "      <td>-0.034194</td>\n",
       "      <td>0.277299</td>\n",
       "      <td>-0.471843</td>\n",
       "      <td>-0.809794</td>\n",
       "      <td>0.672951</td>\n",
       "      <td>2.717927</td>\n",
       "      <td>0.928540</td>\n",
       "      <td>1.897364</td>\n",
       "      <td>-0.233773</td>\n",
       "      <td>...</td>\n",
       "      <td>-0.782136</td>\n",
       "      <td>-0.502159</td>\n",
       "      <td>0.089402</td>\n",
       "      <td>-0.468237</td>\n",
       "      <td>-0.194680</td>\n",
       "      <td>2.013506</td>\n",
       "      <td>0.288960</td>\n",
       "      <td>-0.001121</td>\n",
       "      <td>1.840473</td>\n",
       "      <td>0</td>\n",
       "    </tr>\n",
       "  </tbody>\n",
       "</table>\n",
       "<p>10 rows × 33 columns</p>\n",
       "</div>"
      ],
      "text/plain": [
       "     feat_1    feat_2    feat_3    feat_4    feat_5    feat_6    feat_7  \\\n",
       "0 -0.900846  0.102587 -0.397814  0.112796  2.588096 -0.192754 -0.968311   \n",
       "1 -0.838868  0.039976 -0.387101  0.055413  2.066874 -0.226948 -0.947416   \n",
       "2 -0.814961 -0.010184 -0.397147  0.092713  1.897454 -0.269387 -0.945285   \n",
       "3 -0.110470  0.027849 -0.044310 -0.005343  0.177831 -0.232092 -0.562700   \n",
       "4 -0.626313 -0.091985 -0.373756 -0.005083  1.172486 -0.314868 -0.885046   \n",
       "5 -0.941448  0.165438 -0.392049  0.205172  3.134455 -0.161057 -0.982058   \n",
       "6 -0.624388 -0.080687 -0.366623 -0.049865  1.192401 -0.295711 -0.877278   \n",
       "7 -0.360967 -0.055136 -0.222737  0.087353  0.521053 -0.297690 -0.790068   \n",
       "8 -0.313211 -0.053253 -0.220183  0.105120  0.460798 -0.311198 -0.772821   \n",
       "9  1.353326 -0.034194  0.277299 -0.471843 -0.809794  0.672951  2.717927   \n",
       "\n",
       "     feat_8    feat_9   feat_10  ...   feat_24   feat_25   feat_26   feat_27  \\\n",
       "0 -0.490886 -0.872099 -0.288411  ...  2.541431  1.739102  0.166066  4.584869   \n",
       "1 -0.472817 -0.855387 -0.207101  ...  1.991721  1.259745  0.065058  3.019790   \n",
       "2 -0.449579 -0.849705 -0.151179  ...  1.822978  1.105511  0.065353  2.500681   \n",
       "3 -0.400713 -0.552356  0.037349  ... -0.098367 -0.370318 -0.123008 -0.861314   \n",
       "4 -0.412587 -0.818729 -0.012022  ...  1.030348  0.421886 -0.068029  0.258984   \n",
       "5 -0.499061 -0.884788 -0.341288  ...  3.115495  2.232003  0.289214  6.179787   \n",
       "6 -0.429471 -0.818519 -0.060946  ...  1.045350  0.420301 -0.071344  0.328387   \n",
       "7 -0.485822 -0.745810  0.106832  ...  0.249262 -0.195481 -0.132257 -0.800665   \n",
       "8 -0.473726 -0.724301  0.113229  ...  0.173077 -0.230969 -0.142840 -0.830226   \n",
       "9  0.928540  1.897364 -0.233773  ... -0.782136 -0.502159  0.089402 -0.468237   \n",
       "\n",
       "    feat_28   feat_29   feat_30   feat_31   feat_32  gt  \n",
       "0 -0.107031 -0.913990 -0.686416 -0.368085 -0.870545   0  \n",
       "1 -0.110633 -0.890023 -0.611625 -0.298235 -0.855208   0  \n",
       "2 -0.052730 -0.885691 -0.583346 -0.218140 -0.856456   0  \n",
       "3  0.106840 -0.483669 -0.224164  0.147321 -0.615051   0  \n",
       "4 -0.057158 -0.834079 -0.441066 -0.099874 -0.829539   0  \n",
       "5 -0.052086 -0.932607 -0.753994 -0.415275 -0.885618   0  \n",
       "6 -0.099864 -0.831247 -0.436137 -0.157848 -0.824938   0  \n",
       "7  0.101134 -0.720496 -0.286264  0.140425 -0.767403   0  \n",
       "8  0.126386 -0.694164 -0.241437  0.184116 -0.760070   0  \n",
       "9 -0.194680  2.013506  0.288960 -0.001121  1.840473   0  \n",
       "\n",
       "[10 rows x 33 columns]"
      ]
     },
     "metadata": {},
     "output_type": "display_data"
    },
    {
     "name": "stdout",
     "output_type": "stream",
     "text": [
      "\n",
      "- Total samples: 1000\n",
      "- Feature columns: 32 (excluding target 'gt')\n"
     ]
    }
   ],
   "source": [
    "# Preview the first few rows\n",
    "print(\"First 10 entries in the dataset:\")\n",
    "display(gender_df.head(10))\n",
    "\n",
    "# Print dataset shape\n",
    "print(f\"\\n- Total samples: {len(gender_df)}\")\n",
    "print(f\"- Feature columns: {gender_df.shape[1] - 1} (excluding target 'gt')\")"
   ]
  },
  {
   "cell_type": "markdown",
   "id": "bcbc2a65",
   "metadata": {},
   "source": [
    "### **Gender Label Distribution**\n",
    "\n",
    "We visualize the distribution of gender labels to assess class balance:"
   ]
  },
  {
   "cell_type": "code",
   "execution_count": 4,
   "id": "fd72da36",
   "metadata": {},
   "outputs": [
    {
     "data": {
      "image/png": "[encoded data removed]",
      "text/plain": [
       "<Figure size 600x400 with 1 Axes>"
      ]
     },
     "metadata": {},
     "output_type": "display_data"
    }
   ],
   "source": [
    "# Plot label distribution\n",
    "plt.figure(figsize=(6, 4))\n",
    "gender_df['gt'].value_counts().sort_index().plot(\n",
    "    kind='bar', color=['#FF6F61', '#6B5B95'], edgecolor='black'\n",
    ")\n",
    "plt.title(\"Gender Distribution (0 = Female, 1 = Male)\", fontsize=14)\n",
    "plt.xlabel(\"Gender\", fontsize=12)\n",
    "plt.ylabel(\"Count\", fontsize=12)\n",
    "plt.xticks(ticks=[0, 1], labels=[\"Female\", \"Male\"], rotation=0)\n",
    "plt.grid(axis='y', alpha=0.3)\n",
    "plt.tight_layout()\n",
    "plt.show()"
   ]
  },
  {
   "cell_type": "markdown",
   "id": "69624605",
   "metadata": {},
   "source": [
    "# **Part 2: Support Vector Machines (SVM) for Gender Classification**\n",
    "----"
   ]
  },
  {
   "cell_type": "markdown",
   "id": "eb05863d",
   "metadata": {},
   "source": [
    "In this section, we address a binary classification task using a **Support Vector Machine** (SVM).  \n",
    "Our objective is to **solve the dual quadratic optimization problem** using the **CVXOPT** library and train an SVM classifier capable of distinguishing between male and female subjects.\n",
    "\n",
    "### **Goal**\n",
    "\n",
    "* Implement the **dual formulation** of the SVM.\n",
    "* Train using the **CVXOPT QP solver**.\n",
    "* Tune the hyperparameters via **5-fold cross-validation**.\n",
    "* Evaluate model performance on a **held-out test set**.\n",
    "\n",
    "---"
   ]
  },
  {
   "cell_type": "markdown",
   "id": "f0f6850f",
   "metadata": {},
   "source": [
    "###  **Theoretical Background: Support Vector Machines**\n",
    "\n",
    "A **Support Vector Machine (SVM)** is a robust and widely used supervised learning algorithm for classification tasks. Its objective is to find an optimal **separating hyperplane** that maximizes the margin between classes, in either the original or a transformed feature space.\n",
    "\n",
    "To enable **nonlinear decision boundaries**, the SVM relies on the **kernel trick** to project input features into higher-dimensional spaces where linear separation is more feasible.\n",
    "\n",
    "####  Nonlinear Decision Function\n",
    "\n",
    "The decision function of the kernel SVM is defined as:\n",
    "\n",
    "$$\n",
    "f(x) = \\text{sign} \\left( \\sum_{i=1}^{N} \\lambda_i y_i \\, k(x_i, x) + b \\right)\n",
    "$$\n",
    "\n",
    "where:\n",
    "\n",
    "* $x_i \\in \\mathbb{R}^d$: training samples\n",
    "* $y_i \\in \\{-1, +1\\}$: class labels\n",
    "* $\\lambda_i$: Lagrange multipliers (learned from optimization)\n",
    "* $k(\\cdot, \\cdot)$: kernel function\n",
    "* $b$: bias term\n",
    "* $x$: new input sample\n",
    "\n",
    "Only the **support vectors** (training samples with $\\lambda_i > 0$) influence the decision function.\n",
    "\n",
    "---\n",
    "\n",
    "####  Dual Optimization Problem\n",
    "\n",
    "Training an SVM is equivalent to solving the following **convex Quadratic Programming (QP)** problem in the dual form:\n",
    "\n",
    "$$\n",
    "\\max_{\\boldsymbol{\\lambda}} \\quad \\sum_{i=1}^{N} \\lambda_i - \\frac{1}{2} \\sum_{i=1}^{N} \\sum_{j=1}^{N} \\lambda_i \\lambda_j y_i y_j \\, k(x_i, x_j)\n",
    "$$\n",
    "\n",
    "subject to:\n",
    "\n",
    "$$\n",
    "0 \\leq \\lambda_i \\leq C, \\quad \\sum_{i=1}^{N} \\lambda_i y_i = 0\n",
    "$$\n",
    "\n",
    "* $C$: regularization parameter that balances margin maximization and misclassification.\n",
    "* $\\boldsymbol{\\lambda}$: solution vector containing dual variables.\n",
    "\n",
    "---\n",
    "\n",
    "####  Kernel Functions\n",
    "\n",
    "To operate in a nonlinear setting, we replace the dot product $x^\\top x'$ with a **kernel function** $k(x, x')$, which computes similarity in a **reproducing kernel Hilbert space (RKHS)** without explicit transformation.\n",
    "\n",
    "The most commonly used kernels include:\n",
    "\n",
    "* **Radial Basis Function (RBF / Gaussian)**:\n",
    "\n",
    "  $$\n",
    "  k(x, x') = \\exp \\left(-\\gamma \\|x - x'\\|^2 \\right)\n",
    "  $$\n",
    "\n",
    "  * $\\gamma$: controls the influence radius of support vectors\n",
    "  * Suitable for complex, smooth decision boundaries\n",
    "\n",
    "* **Polynomial Kernel**:\n",
    "\n",
    "  $$\n",
    "  k(x, x') = \\left(x^\\top x' + 1 \\right)^p\n",
    "  $$\n",
    "\n",
    "  * $p$: polynomial degree\n",
    "  * Captures interactions up to degree $p$\n",
    "\n",
    "---\n",
    "\n",
    "####  Hyperparameter Tuning\n",
    "\n",
    "The following hyperparameters need to be tuned via **k-fold cross-validation** to balance generalization and accuracy:\n",
    "\n",
    "* $C$: regularization strength\n",
    "* $\\gamma$: RBF kernel parameter\n",
    "* $p$: degree for the polynomial kernel\n",
    "\n",
    "Proper tuning of these parameters is crucial to avoid both **underfitting** and **overfitting**, and to ensure robust performance on unseen data.\n"
   ]
  },
  {
   "cell_type": "markdown",
   "id": "36ba22a1",
   "metadata": {},
   "source": [
    "-----\n"
   ]
  },
  {
   "cell_type": "markdown",
   "id": "fcc075fc",
   "metadata": {},
   "source": [
    "\n",
    "## **Setup and Preprocessing**\n",
    "\n",
    "We now prepare the data for training:\n",
    "\n"
   ]
  },
  {
   "cell_type": "code",
   "execution_count": 5,
   "id": "0d06c333",
   "metadata": {},
   "outputs": [
    {
     "name": "stdout",
     "output_type": "stream",
     "text": [
      "Dataset shape: (1000, 32)\n",
      "Positive samples (label = +1): 500\n",
      "Negative samples (label = -1): 500\n"
     ]
    }
   ],
   "source": [
    "# Separate features and labels\n",
    "X = gender_df.drop(columns=['gt']).values\n",
    "y = gender_df['gt'].values\n",
    "\n",
    "# Map labels from {0,1} → {-1, +1} for SVM\n",
    "y_svm = np.where(y == 0, -1, 1)\n",
    "\n",
    "print(f\"Dataset shape: {X.shape}\")\n",
    "print(f\"Positive samples (label = +1): {np.sum(y_svm == 1)}\")\n",
    "print(f\"Negative samples (label = -1): {np.sum(y_svm == -1)}\")"
   ]
  },
  {
   "cell_type": "markdown",
   "id": "889d0620",
   "metadata": {},
   "source": [
    "### **Train-Test Split**\n",
    "After selecting the best configuration, we isolate a hold-out test set (20%) and reserve the remaining 80% for training the final model."
   ]
  },
  {
   "cell_type": "code",
   "execution_count": 7,
   "id": "4c3d5d30",
   "metadata": {},
   "outputs": [
    {
     "name": "stdout",
     "output_type": "stream",
     "text": [
      "Train+Val: 800 | Test: 200\n"
     ]
    }
   ],
   "source": [
    "# Hold‑out test: 20%\n",
    "X_trainval, X_test, y_trainval, y_test = train_test_split(\n",
    "    X, y_svm, test_size=0.20, random_state=42, stratify=y_svm\n",
    ")\n",
    "print(f\"Train+Val: {X_trainval.shape[0]} | Test: {X_test.shape[0]}\")"
   ]
  },
  {
   "cell_type": "markdown",
   "id": "4f488f32",
   "metadata": {},
   "source": [
    "## **Hyperparameter Tuning via Cross-Validation**\n",
    "\n",
    "We perform **5-fold cross-validation** to select the best combination of:\n",
    "\n",
    "* $C$: regularization strength\n",
    "* $\\gamma$: RBF kernel parameter\n"
   ]
  },
  {
   "cell_type": "code",
   "execution_count": 8,
   "id": "8ea983e4",
   "metadata": {},
   "outputs": [
    {
     "name": "stdout",
     "output_type": "stream",
     "text": [
      "Starting cross-validation (RBF kernel)...\n",
      "C=0.01, gamma=0.0001 → avg val acc: 0.9100\n",
      "C=0.01, gamma=0.01 → avg val acc: 0.9088\n",
      "C=0.01, gamma=1 → avg val acc: 0.9062\n",
      "C=1, gamma=0.0001 → avg val acc: 0.9050\n",
      "C=1, gamma=0.01 → avg val acc: 0.9163\n",
      "C=1, gamma=1 → avg val acc: 0.9100\n",
      "C=10, gamma=0.0001 → avg val acc: 0.9163\n",
      "C=10, gamma=0.01 → avg val acc: 0.9138\n",
      "C=10, gamma=1 → avg val acc: 0.8863\n"
     ]
    }
   ],
   "source": [
    "\n",
    "# Define hyperparameter grid\n",
    "C_values = [1e-2, 1, 10]\n",
    "gamma_values = [1e-4, 1e-2, 1]\n",
    "\n",
    "print(\"Starting cross-validation (RBF kernel)...\")\n",
    "(best_C, best_gamma, best_accuracy), all_results = cross_validate_svm_cvxopt(\n",
    "    X_trainval, y_trainval, C_values, gamma_values, k_folds=5\n",
    ")"
   ]
  },
  {
   "cell_type": "markdown",
   "id": "7939dbb3",
   "metadata": {},
   "source": [
    "Once completed, we extract the best configuration based on the highest average validation accuracy:"
   ]
  },
  {
   "cell_type": "code",
   "execution_count": 9,
   "id": "af997abc",
   "metadata": {},
   "outputs": [
    {
     "name": "stdout",
     "output_type": "stream",
     "text": [
      "\n",
      "Best hyperparameters:\n",
      " - Kernel  : RBF\n",
      " - C       : 1\n",
      " - gamma   : 0.01\n",
      " - CV Acc. : 0.9163\n"
     ]
    }
   ],
   "source": [
    "# Retrieve best configuration\n",
    "print(\"\\nBest hyperparameters:\")\n",
    "print(f\" - Kernel  : RBF\")\n",
    "print(f\" - C       : {best_C}\")\n",
    "print(f\" - gamma   : {best_gamma}\")\n",
    "print(f\" - CV Acc. : {best_accuracy:.4f}\")"
   ]
  },
  {
   "cell_type": "markdown",
   "id": "0c242774",
   "metadata": {},
   "source": [
    "### **Final Model Training**\n",
    "We now train the final SVM model using the best C and gamma, solving the dual optimization problem via CVXOPT."
   ]
  },
  {
   "cell_type": "code",
   "execution_count": 10,
   "id": "1b543dc3",
   "metadata": {},
   "outputs": [],
   "source": [
    "# Fit scaler su tutto il train+val e applica a train+val e test\n",
    "scaler = StandardScaler()\n",
    "X_trainval_sc = scaler.fit_transform(X_trainval)\n",
    "X_test_sc     = scaler.transform(X_test)\n",
    "\n",
    "# Kernel function\n",
    "kernel_final = lambda A, B: rbf_kernel(A, B, gamma=best_gamma)\n"
   ]
  },
  {
   "cell_type": "code",
   "execution_count": 11,
   "id": "f0588d82",
   "metadata": {},
   "outputs": [
    {
     "name": "stdout",
     "output_type": "stream",
     "text": [
      " Final model trained\n",
      " - Status               : optimal\n",
      " - Iterations           : 18\n",
      " - Dual Objective (final): -154.879445\n",
      " - Optimization Time [s]: 0.4246\n",
      " - Support Vectors      : 172 / 800\n",
      "\n",
      " TRAIN PERFORMANCE\n",
      " - Train Accuracy       : 0.9175\n",
      " - Confusion Matrix (Train):\n",
      "[[366  34]\n",
      " [ 32 368]]\n"
     ]
    }
   ],
   "source": [
    "# Train final model\n",
    "\n",
    "# Train final model with CVXOPT\n",
    "\n",
    "alpha, sv_idx, b, final_obj, n_iter, status, opt_time = train_svm_dual_cvxopt(\n",
    "    X_trainval_sc, y_trainval, kernel_final, C=best_C\n",
    ")\n",
    "\n",
    "print(\" Final model trained\")\n",
    "print(f\" - Status               : {status}\")\n",
    "print(f\" - Iterations           : {n_iter}\")\n",
    "print(f\" - Dual Objective (final): {final_obj:.6f}\")\n",
    "print(f\" - Optimization Time [s]: {opt_time:.4f}\")\n",
    "print(f\" - Support Vectors      : {len(sv_idx)} / {len(alpha)}\")\n",
    "\n",
    "# Predizioni e metriche su TRAIN\n",
    "y_pred_train = predict_svm_dual(\n",
    "    X_trainval_sc, y_trainval, X_trainval_sc, alpha, b, kernel_final\n",
    ")\n",
    "acc_train = accuracy_score(y_trainval, y_pred_train)\n",
    "cm_train = confusion_matrix(y_trainval, y_pred_train)\n",
    "\n",
    "print(\"\\n TRAIN PERFORMANCE\")\n",
    "print(f\" - Train Accuracy       : {acc_train:.4f}\")\n",
    "print(\" - Confusion Matrix (Train):\")\n",
    "print(cm_train)\n"
   ]
  },
  {
   "cell_type": "markdown",
   "id": "8a7eb0f4",
   "metadata": {},
   "source": [
    "### **Test Set Evaluation**\n",
    "We evaluate model performance using accuracy and a confusion matrix on the unseen test set."
   ]
  },
  {
   "cell_type": "code",
   "execution_count": 12,
   "id": "4db430bf",
   "metadata": {},
   "outputs": [
    {
     "name": "stdout",
     "output_type": "stream",
     "text": [
      "\n",
      " TEST PERFORMANCE\n",
      " - Test Accuracy        : 0.9250\n",
      " - Confusion Matrix (Test):\n",
      "[[93  7]\n",
      " [ 8 92]]\n"
     ]
    }
   ],
   "source": [
    "# Predict on test set\n",
    "y_pred_test = predict_svm_dual(\n",
    "    X_trainval_sc, y_trainval, X_test_sc, alpha, b, kernel_final\n",
    ")\n",
    "acc_test = accuracy_score(y_test, y_pred_test)\n",
    "cm_test = confusion_matrix(y_test, y_pred_test)\n",
    "\n",
    "print(\"\\n TEST PERFORMANCE\")\n",
    "print(f\" - Test Accuracy        : {acc_test:.4f}\")\n",
    "print(\" - Confusion Matrix (Test):\")\n",
    "print(cm_test)\n"
   ]
  },
  {
   "cell_type": "markdown",
   "id": "0cc8af3d",
   "metadata": {},
   "source": [
    "### **Visualization**"
   ]
  },
  {
   "cell_type": "code",
   "execution_count": 13,
   "id": "88fa05a8",
   "metadata": {},
   "outputs": [
    {
     "data": {
      "image/png": "[encoded data removed]",
      "text/plain": [
       "<Figure size 600x500 with 2 Axes>"
      ]
     },
     "metadata": {},
     "output_type": "display_data"
    }
   ],
   "source": [
    "# Confusion Matrix Heatmap\n",
    "plt.figure(figsize=(6,5))\n",
    "sns.heatmap(cm_test, annot=True, fmt='d', cmap='Blues',\n",
    "            xticklabels=['Pred -1','Pred +1'],\n",
    "            yticklabels=['True -1','True +1'])\n",
    "plt.title(\"Confusion Matrix — Test\")\n",
    "plt.ylabel(\"True\")\n",
    "plt.xlabel(\"Pred\")\n",
    "plt.tight_layout()\n",
    "plt.show()"
   ]
  },
  {
   "cell_type": "markdown",
   "id": "2237a492",
   "metadata": {},
   "source": [
    "### **Cross-Validation Results Heatmap**"
   ]
  },
  {
   "cell_type": "code",
   "execution_count": 14,
   "id": "2b18215d",
   "metadata": {},
   "outputs": [
    {
     "data": {
      "image/png": "[encoded data removed]",
      "text/plain": [
       "<Figure size 800x500 with 2 Axes>"
      ]
     },
     "metadata": {},
     "output_type": "display_data"
    }
   ],
   "source": [
    "# CV results heatmap\n",
    "\n",
    "cv_df = pd.DataFrame(all_results, columns=[\"C\", \"gamma\", \"accuracy\"])\n",
    "pivot = cv_df.pivot(index=\"gamma\", columns=\"C\", values=\"accuracy\").sort_index().sort_index(axis=1)\n",
    "\n",
    "plt.figure(figsize=(8,5))\n",
    "sns.heatmap(pivot, annot=True, fmt=\".3f\", cmap=\"viridis\")\n",
    "plt.title(\"5-Fold CV Accuracy (RBF)\")\n",
    "plt.xlabel(\"C\")\n",
    "plt.ylabel(\"gamma\")\n",
    "plt.tight_layout()\n",
    "plt.show()"
   ]
  },
  {
   "cell_type": "markdown",
   "id": "406d533b",
   "metadata": {},
   "source": [
    "### **Final Summary**"
   ]
  },
  {
   "cell_type": "code",
   "execution_count": 19,
   "id": "674a6fab",
   "metadata": {},
   "outputs": [
    {
     "name": "stdout",
     "output_type": "stream",
     "text": [
      "\n",
      "======================================================================\n",
      "                            FINAL SUMMARY                             \n",
      "======================================================================\n",
      "Samples (total)           : 1500\n",
      "Features                  : 32\n",
      "Kernel                    : RBF\n",
      "Best C                    : 1\n",
      "Best gamma                : 0.01\n",
      "CV Accuracy (mean)        : 0.9163\n",
      "----------------------------------------------------------------------\n",
      "Train Accuracy            : 0.9175\n",
      "Test Accuracy             : 0.9250\n",
      "----------------------------------------------------------------------\n",
      "# Support Vectors         : 172\n",
      "SV Ratio                  : 21.50%\n",
      "----------------------------------------------------------------------\n",
      "Optimization Status       : optimal\n",
      "Iterations                : 18\n",
      "Dual Objective (final)    : -154.879445\n",
      "Optimization Time [s]     : 0.4246\n",
      "======================================================================\n",
      "\n",
      "Classification Report (Test):\n",
      "\n",
      "              precision    recall  f1-score   support\n",
      "\n",
      "    Class -1       0.92      0.93      0.93       100\n",
      "    Class +1       0.93      0.92      0.92       100\n",
      "\n",
      "    accuracy                           0.93       200\n",
      "   macro avg       0.93      0.93      0.92       200\n",
      "weighted avg       0.93      0.93      0.92       200\n",
      "\n"
     ]
    }
   ],
   "source": [
    "print(\"\\n\" + \"=\"*70)\n",
    "print(\"{:^70}\".format(\"FINAL SUMMARY\"))\n",
    "print(\"=\"*70)\n",
    "\n",
    "print(f\"{'Samples (total)':25} : {X.shape[0]}\")\n",
    "print(f\"{'Features':25} : {X.shape[1]}\")\n",
    "print(f\"{'Kernel':25} : RBF\")\n",
    "print(f\"{'Best C':25} : {best_C}\")\n",
    "print(f\"{'Best gamma':25} : {best_gamma}\")\n",
    "print(f\"{'CV Accuracy (mean)':25} : {best_accuracy:.4f}\")\n",
    "print(\"-\"*70)\n",
    "print(f\"{'Train Accuracy':25} : {acc_train:.4f}\")\n",
    "print(f\"{'Test Accuracy':25} : {acc_test:.4f}\")\n",
    "print(\"-\"*70)\n",
    "print(f\"{'# Support Vectors':25} : {len(sv_idx)}\")\n",
    "print(f\"{'SV Ratio':25} : {len(sv_idx)/len(alpha):.2%}\")\n",
    "print(\"-\"*70)\n",
    "print(f\"{'Optimization Status':25} : {status}\")\n",
    "print(f\"{'Iterations':25} : {n_iter}\")\n",
    "print(f\"{'Dual Objective (final)':25} : {final_obj:.6f}\")\n",
    "print(f\"{'Optimization Time [s]':25} : {opt_time:.4f}\")\n",
    "print(\"=\"*70)\n",
    "\n",
    "print(\"\\nClassification Report (Test):\\n\")\n",
    "print(classification_report(y_test, y_pred_test, target_names=[\"Class -1\", \"Class +1\"]))\n"
   ]
  },
  {
   "cell_type": "markdown",
   "id": "596f3d9f",
   "metadata": {},
   "source": [
    "## **BONUS Question 4 – Multiclass SVM (One-vs-All)**\n",
    "\n",
    "In this bonus task, we extend the binary SVM formulation to the case of **multiclass ethnicity classification**.  \n",
    "From the five ethnic groups available, we select three classes and implement the **One-vs-All (OvA)** strategy:\n",
    "\n",
    "- For each class, a binary classifier is trained to separate it from the remaining classes.  \n",
    "- At prediction time, the class with the **highest decision function value** is assigned.  \n",
    "\n",
    "This approach reuses the optimization routine previously implemented for the binary SVM.\n"
   ]
  },
  {
   "cell_type": "code",
   "execution_count": 20,
   "id": "3dd62d29",
   "metadata": {},
   "outputs": [],
   "source": [
    "# Load and filter the dataset (3 classes only)\n",
    "eth = pd.read_csv(\"../dataset/ETHNICITY_CLASSIFICATION.csv\")\n",
    "classes_to_use = [0, 1, 2]\n",
    "eth = eth[eth[\"gt\"].isin(classes_to_use)].copy()\n",
    "\n",
    "X = eth.drop(columns=[\"gt\"]).values\n",
    "y = eth[\"gt\"].values\n",
    "\n",
    "# Stratified split\n",
    "X_tr, X_ts, y_tr, y_ts = train_test_split(\n",
    "    X, y, test_size=0.2, random_state=123, stratify=y\n",
    ")\n",
    "\n",
    "# Standardize features (important for RBF/Polynomial kernels)\n",
    "scaler = StandardScaler()\n",
    "X_tr = scaler.fit_transform(X_tr)\n",
    "X_ts = scaler.transform(X_ts)"
   ]
  },
  {
   "cell_type": "markdown",
   "id": "269d27e0",
   "metadata": {},
   "source": [
    "### **Training phase**\n",
    "\n",
    "We train the OvA-SVM model using an **RBF kernel** with parameters fixed to  \n",
    "$\\gamma = 0.01$ and $C = 1.0$.  \n",
    "No cross-validation is required for the bonus question, but these hyperparameters can be adjusted empirically.\n"
   ]
  },
  {
   "cell_type": "code",
   "execution_count": 21,
   "id": "a2217e40",
   "metadata": {},
   "outputs": [],
   "source": [
    "gamma = 0.01\n",
    "kernel = lambda A, B: rbf_kernel(A, B, gamma=gamma)\n",
    "C = 1.0\n",
    "\n",
    "ova = OneVsAllSVM(kernel=kernel, C=C)\n",
    "ova.fit(X_tr, y_tr)"
   ]
  },
  {
   "cell_type": "markdown",
   "id": "f538df52",
   "metadata": {},
   "source": [
    "### **Evaluation**\n",
    "\n",
    "Model performance is reported in terms of **accuracy** on both training and test sets.  \n",
    "We also provide the **confusion matrices** to analyze class-specific behavior."
   ]
  },
  {
   "cell_type": "code",
   "execution_count": 22,
   "id": "4f61cdd4",
   "metadata": {},
   "outputs": [
    {
     "name": "stdout",
     "output_type": "stream",
     "text": [
      "=== BONUS: ETHNICITY (OvA, 3 classes) ===\n",
      "Classes used            : [0, 1, 2]\n",
      "Kernel                  : RBF (gamma=0.01)\n",
      "C                       : 1.0\n",
      "Accuracy TRAIN          : 0.9158\n",
      "Accuracy TEST           : 0.8800\n",
      "Confusion Matrix (TRAIN):\n",
      "[[363  20  17]\n",
      " [ 17 376   7]\n",
      " [ 24  16 360]]\n",
      "Confusion Matrix (TEST) :\n",
      "[[88 10  2]\n",
      " [ 8 88  4]\n",
      " [ 9  3 88]]\n"
     ]
    }
   ],
   "source": [
    "y_pred_tr = ova.predict(X_tr)\n",
    "y_pred_ts = ova.predict(X_ts)\n",
    "\n",
    "acc_tr = accuracy_score(y_tr, y_pred_tr)\n",
    "acc_ts = accuracy_score(y_ts, y_pred_ts)\n",
    "cm_tr  = confusion_matrix(y_tr, y_pred_tr, labels=classes_to_use)\n",
    "cm_ts  = confusion_matrix(y_ts, y_pred_ts, labels=classes_to_use)\n",
    "\n",
    "print(\"=== BONUS: ETHNICITY (OvA, 3 classes) ===\")\n",
    "print(f\"Classes used            : {classes_to_use}\")\n",
    "print(f\"Kernel                  : RBF (gamma={gamma})\")\n",
    "print(f\"C                       : {C}\")\n",
    "print(f\"Accuracy TRAIN          : {acc_tr:.4f}\")\n",
    "print(f\"Accuracy TEST           : {acc_ts:.4f}\")\n",
    "print(\"Confusion Matrix (TRAIN):\")\n",
    "print(cm_tr)\n",
    "print(\"Confusion Matrix (TEST) :\")\n",
    "print(cm_ts)\n"
   ]
  }
 ],
 "metadata": {
  "kernelspec": {
   "display_name": "Python 3",
   "language": "python",
   "name": "python3"
  },
  "language_info": {
   "codemirror_mode": {
    "name": "ipython",
    "version": 3
   },
   "file_extension": ".py",
   "mimetype": "text/x-python",
   "name": "python",
   "nbconvert_exporter": "python",
   "pygments_lexer": "ipython3",
   "version": "3.9.6"
  }
 },
 "nbformat": 4,
 "nbformat_minor": 5
}
